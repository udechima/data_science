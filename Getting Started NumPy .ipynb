{
 "cells": [
  {
   "cell_type": "markdown",
   "id": "c3f344f9",
   "metadata": {},
   "source": [
    "# NumPy Getting Started"
   ]
  },
  {
   "cell_type": "markdown",
   "id": "a03a885a",
   "metadata": {},
   "source": [
    "### Installation of NumPy\n",
    "If you have Python and PIP already installed on a system, then installation of NumPy is very easy.\n",
    "Install it using this command:\n",
    "\n",
    "<code>C:\\Users\\Your Name>pip install numpy</code>"
   ]
  },
  {
   "cell_type": "markdown",
   "id": "af41a46f",
   "metadata": {},
   "source": [
    "If this command fails, then use a python distribution that already has NumPy installed like, Anaconda, Spyder etc."
   ]
  },
  {
   "cell_type": "markdown",
   "id": "cad6f15d",
   "metadata": {},
   "source": [
    "### Import NumPy"
   ]
  },
  {
   "cell_type": "markdown",
   "id": "53b90daf",
   "metadata": {},
   "source": [
    "Once NumPy is installed, import it in your applications by adding the import keyword:\n",
    "\n",
    "import numpy\n",
    "\n",
    "Now NumPy is imported and ready to use."
   ]
  },
  {
   "cell_type": "code",
   "execution_count": 1,
   "id": "21aeaf97",
   "metadata": {},
   "outputs": [
    {
     "name": "stdout",
     "output_type": "stream",
     "text": [
      "[1 2 3 4 5]\n"
     ]
    }
   ],
   "source": [
    "import numpy\n",
    "\n",
    "arr = numpy.array([1, 2, 3, 4, 5])\n",
    "\n",
    "print(arr)"
   ]
  },
  {
   "cell_type": "markdown",
   "id": "9529f546",
   "metadata": {},
   "source": [
    "### NumPy as np"
   ]
  },
  {
   "cell_type": "markdown",
   "id": "7883702f",
   "metadata": {},
   "source": [
    "NumPy is usually imported under the np alias\n",
    "\n",
    "alias: In Python alias are an alternate name for referring to the same thing.\n",
    "Create an alias with the as keyword while importing:\n",
    "\n",
    "<code>import numpy as np</code>\n",
    "\n",
    "Now the NumPy package can be referred to as np instead of numpy."
   ]
  },
  {
   "cell_type": "code",
   "execution_count": 2,
   "id": "05887a55",
   "metadata": {},
   "outputs": [
    {
     "name": "stdout",
     "output_type": "stream",
     "text": [
      "[1 2 3 4 5]\n"
     ]
    }
   ],
   "source": [
    "import numpy as np\n",
    "\n",
    "arr = np.array([1, 2, 3, 4, 5])\n",
    "\n",
    "print(arr)"
   ]
  },
  {
   "cell_type": "markdown",
   "id": "11e33a1e",
   "metadata": {},
   "source": [
    "### Checking NumPy Version\n",
    "\n",
    "The version string is stored under __version__ attribute."
   ]
  },
  {
   "cell_type": "code",
   "execution_count": 3,
   "id": "d3cf57a4",
   "metadata": {},
   "outputs": [
    {
     "name": "stdout",
     "output_type": "stream",
     "text": [
      "1.21.5\n"
     ]
    }
   ],
   "source": [
    "import numpy as np\n",
    "\n",
    "print(np.__version__)"
   ]
  },
  {
   "cell_type": "markdown",
   "id": "47e7c020",
   "metadata": {},
   "source": [
    "## NumPy Creating Arrays"
   ]
  },
  {
   "cell_type": "markdown",
   "id": "ab9425fb",
   "metadata": {},
   "source": [
    "### Create a NumPy ndarray Object\n",
    "\n",
    "NumPy is used to work with arrays. The array object in NumPy is called **ndarray**.\n",
    "\n",
    "We can create a NumPy ndarray object by using the array() function."
   ]
  },
  {
   "cell_type": "code",
   "execution_count": 4,
   "id": "a599a74a",
   "metadata": {},
   "outputs": [
    {
     "name": "stdout",
     "output_type": "stream",
     "text": [
      "[1 2 3 4 5]\n",
      "<class 'numpy.ndarray'>\n"
     ]
    }
   ],
   "source": [
    "import numpy as np\n",
    "\n",
    "arr = np.array([1, 2, 3, 4, 5])\n",
    "\n",
    "print(arr)\n",
    "\n",
    "print(type(arr))\n"
   ]
  },
  {
   "cell_type": "markdown",
   "id": "3060f8ae",
   "metadata": {},
   "source": [
    "type(): This built-in Python function tells us the type of the object passed to it. Like in above code it shows that arr is numpy.ndarray type.\n",
    "\n",
    "To create an ndarray, we can pass a list, tuple or any array-like object into the array() method, and it will be converted into an ndarray:"
   ]
  },
  {
   "cell_type": "code",
   "execution_count": 5,
   "id": "681d0708",
   "metadata": {},
   "outputs": [
    {
     "name": "stdout",
     "output_type": "stream",
     "text": [
      "[1 2 3 4 5]\n"
     ]
    }
   ],
   "source": [
    "# Use a tuple to create a NumPy array:\n",
    "import numpy as np\n",
    "\n",
    "arr = np.array((1, 2, 3, 4, 5))\n",
    "\n",
    "print(arr)"
   ]
  },
  {
   "cell_type": "markdown",
   "id": "8c6aad86",
   "metadata": {},
   "source": [
    "### Dimensions in Arrays\n",
    "A dimension in arrays is one level of array depth (nested arrays).\n",
    "\n",
    "**nested array: are arrays that have arrays as their elements.**"
   ]
  },
  {
   "cell_type": "code",
   "execution_count": null,
   "id": "a800915f",
   "metadata": {},
   "outputs": [],
   "source": []
  }
 ],
 "metadata": {
  "kernelspec": {
   "display_name": "Python 3 (ipykernel)",
   "language": "python",
   "name": "python3"
  },
  "language_info": {
   "codemirror_mode": {
    "name": "ipython",
    "version": 3
   },
   "file_extension": ".py",
   "mimetype": "text/x-python",
   "name": "python",
   "nbconvert_exporter": "python",
   "pygments_lexer": "ipython3",
   "version": "3.10.12"
  }
 },
 "nbformat": 4,
 "nbformat_minor": 5
}
