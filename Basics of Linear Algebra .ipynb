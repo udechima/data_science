{
 "cells": [
  {
   "cell_type": "markdown",
   "id": "6d70b337",
   "metadata": {},
   "source": [
    "1. **Vectors**:\n",
    "   - A vector is an ordered list of numbers. For example, a 2D vector might be represented as ([x, y]).\n",
    "   - Vectors can be added together, and scalar multiplication can be performed (scaling the vector by a constant).\n"
   ]
  },
  {
   "cell_type": "markdown",
   "id": "164d55e4",
   "metadata": {},
   "source": [
    "- A vector is a mathematical object that represents a directed quantity with both magnitude and direction. Vectors can be thought of as arrows in space, with a starting point and an endpoint. In mathematics, vectors are often represented as ordered lists of numbers or coordinates."
   ]
  },
  {
   "cell_type": "markdown",
   "id": "9de20f97",
   "metadata": {},
   "source": [
    "- In a two-dimensional (2D) Cartesian coordinate system, a vector is typically represented as [x, y], where x and y are the components of the vector along the x-axis and y-axis, respectively. These components can be either real numbers or integers."
   ]
  },
  {
   "cell_type": "markdown",
   "id": "6212cca3",
   "metadata": {},
   "source": [
    "- In a three-dimensional (3D) space, vectors are represented as [x, y, z], with x, y, and z being the components along the x, y, and z axes."
   ]
  },
  {
   "cell_type": "markdown",
   "id": "f815adc0",
   "metadata": {},
   "source": [
    "2. **Vector Operations**:\n",
    "   - **Vector Addition**: Adding corresponding components of two vectors. For example, [1, 2] + [3, 4] = [4, 6].\n",
    "   - **Scalar Multiplication**: Multiplying a vector by a scalar (a single number). For example, 2 . [1, 2] = [2, 4].\n"
   ]
  },
  {
   "cell_type": "markdown",
   "id": "c5205aea",
   "metadata": {},
   "source": [
    " **Vector Addition**:\n",
    "   - Vector addition is the process of combining two or more vectors to produce a resultant vector. To add two vectors, you add their corresponding components.\n",
    "   - In 2D, if you have two vectors A = [a, b] and B = [c, d], their sum C = A + B is calculated as:\n",
    "     - $C_{x}$ = a + c\n",
    "     - $C_{y}$ = b + d\n",
    "   - In 3D, the process is similar, but you add the corresponding components along each axis\n"
   ]
  },
  {
   "cell_type": "markdown",
   "id": "ea3855d0",
   "metadata": {},
   "source": [
    "**Scalar Multiplication**:\n",
    "   - Scalar multiplication is the process of scaling a vector by a scalar (a real number). When you multiply a vector by a scalar, you multiply each component of the vector by that scalar.\n",
    "   - If k is a scalar and V = [x, y] is a 2D vector, then k . V = [kx,ky].\n"
   ]
  },
  {
   "cell_type": "markdown",
   "id": "3ec9ed55",
   "metadata": {},
   "source": [
    "**Examples**:"
   ]
  },
  {
   "cell_type": "markdown",
   "id": "3018b8d8",
   "metadata": {},
   "source": [
    "**Vector Addition**:\n",
    "Suppose you have two 2D vectors, A = [3, 1] and B = [2, -2], and you want to find their sum, C = A + B. You perform component-wise addition:\n",
    "\n",
    "- $C_{x}$ = 3 + 2 = 5\n",
    "- $C_{y}$ = 1 - 2 = -1\n",
    "\n",
    "So, the sum of vectors A and B is C = [5, -1].\n"
   ]
  },
  {
   "cell_type": "markdown",
   "id": "f3fc54bc",
   "metadata": {},
   "source": [
    "**Scalar Multiplication**:\n",
    "Consider a 2D vector V = [2, 3], and you want to scale it by a factor of 4. The result is found by multiplying each component by 4:\n",
    "\n",
    "- 4 . $V_{x}$ = 4 . 2 = 8\n",
    "- 4 . $V_{y}$ = 4 . 3 = 12\n",
    "\n",
    "So, the result of scalar multiplication is 4 . V = [8, 12].\n"
   ]
  },
  {
   "cell_type": "markdown",
   "id": "c3dc211e",
   "metadata": {},
   "source": [
    "3. **Vector Dot Product**:\n",
    "   - The dot product (or inner product) of two vectors A and B is given by: A . B = |A| . |B| . cos( &Theta; ), where |A| and |B| are the magnitudes of the vectors, and (&Theta;) is the angle between them.\n",
    "   - In terms of components, for 2D vectors: A . B = $A_{x}$ . $B_{x}$ + $A_{y}$ . $B_{y}$.\n"
   ]
  },
  {
   "cell_type": "markdown",
   "id": "7d50fc26",
   "metadata": {},
   "source": [
    "4. **Matrices**:\n",
    "   - A matrix is a rectangular array of numbers. For example, a 2x2 matrix might be represented as:\n",
    "     \n",
    "     \\begin{bmatrix}\n",
    "     a & b \\\\\n",
    "     c & d\n",
    "     \\end{bmatrix}\n",
    "     \n",
    "   - Matrices can be added together and multiplied by scalars.\n"
   ]
  },
  {
   "cell_type": "markdown",
   "id": "f8f392ba",
   "metadata": {},
   "source": [
    "5. **Matrix Operations**:\n",
    "   - **Matrix Addition**: Adding corresponding elements of two matrices of the same size.\n",
    "   - **Scalar Multiplication**: Multiplying a matrix by a scalar.\n",
    "   - **Matrix Multiplication**: The product of two matrices A and B is defined if the number of columns in A is equal to the number of rows in B. The result will be a new matrix, and each element is the dot product of a row in A and a column in B.\n"
   ]
  },
  {
   "cell_type": "markdown",
   "id": "0fead661",
   "metadata": {},
   "source": [
    "6. **Identity Matrix**:\n",
    "   - An identity matrix is a square matrix with ones on the main diagonal and zeros elsewhere. It's often denoted as I or $I_{n}$ for an n times n identity matrix.\n"
   ]
  },
  {
   "cell_type": "markdown",
   "id": "b4508bb1",
   "metadata": {},
   "source": [
    "7. **Inverse Matrix**:\n",
    "   - If a square matrix A has an inverse, denoted as $A^{-1}$, then A . $A^{-1}$ = I, where I is the identity matrix. Not all matrices have inverses.\n"
   ]
  },
  {
   "cell_type": "markdown",
   "id": "78cfaf39",
   "metadata": {},
   "source": [
    "8. **Determinant**:\n",
    "   - The determinant of a square matrix A is a scalar value that can provide information about the matrix. For a 2x2 matrix \\begin{bmatrix} a & b \\\\ c & d \\end{bmatrix}, the determinant is (ad - bc).\n"
   ]
  },
  {
   "cell_type": "markdown",
   "id": "18dfb73f",
   "metadata": {},
   "source": [
    "9. **Eigenvalues and Eigenvectors**:\n",
    "   - Eigenvalues and eigenvectors are important concepts in linear algebra. Given a square matrix A, an eigenvector is a nonzero vector that remains in the same direction (up to scaling) when A is applied to it. The corresponding scaling factor is the eigenvalue.\n"
   ]
  },
  {
   "cell_type": "markdown",
   "id": "6184103d",
   "metadata": {},
   "source": [
    "10. **Linear Transformations**:\n",
    "    - Matrices can represent linear transformations. For example, rotation, scaling, and translation in 2D or 3D space can be expressed as matrix operations.\n"
   ]
  },
  {
   "cell_type": "code",
   "execution_count": null,
   "id": "462a7702",
   "metadata": {},
   "outputs": [],
   "source": []
  }
 ],
 "metadata": {
  "kernelspec": {
   "display_name": "Python 3 (ipykernel)",
   "language": "python",
   "name": "python3"
  },
  "language_info": {
   "codemirror_mode": {
    "name": "ipython",
    "version": 3
   },
   "file_extension": ".py",
   "mimetype": "text/x-python",
   "name": "python",
   "nbconvert_exporter": "python",
   "pygments_lexer": "ipython3",
   "version": "3.10.12"
  }
 },
 "nbformat": 4,
 "nbformat_minor": 5
}
