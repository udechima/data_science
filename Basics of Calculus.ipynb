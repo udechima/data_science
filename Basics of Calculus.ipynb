{
 "cells": [
  {
   "cell_type": "markdown",
   "id": "4681e2e6",
   "metadata": {},
   "source": [
    "# Basics of Calculus\n",
    "\n",
    "In this second session, we will delve into the fundamental concepts of calculus, focusing on limits, derivatives, and integrals. These concepts are at the core of calculus and provide a powerful framework for understanding how quantities change and accumulate. We will also cover the rules for finding derivatives and how to calculate definite and indefinite integrals.\n"
   ]
  },
  {
   "cell_type": "markdown",
   "id": "13db3d37",
   "metadata": {},
   "source": [
    "### 1. Introduction to Limits:\n",
    "\n",
    "**Meaning:** Limits are a foundational concept in calculus, allowing us to understand what happens to a function as it approaches a particular value.\n",
    "\n",
    "**Example:** Consider the function f(x) = (x^2 - 1) / (x - 1). To find the limit of this function as x approaches 1, we simplify the expression by canceling the common factor (x - 1) in the numerator and denominator. The limit as x approaches 1 is 2, which means that as x gets arbitrarily close to 1, the function's value gets arbitrarily close to 2.\n"
   ]
  },
  {
   "cell_type": "markdown",
   "id": "a80b54c1",
   "metadata": {},
   "source": [
    "**Introduction to Limits:**\n",
    "\n",
    "In calculus, limits are a fundamental concept that describes the behavior of a function as it gets closer to a particular point. They help us understand what happens when we approach a certain value, even if we never actually reach it. Limits are crucial for analyzing functions, continuity, and defining derivatives and integrals.\n"
   ]
  },
  {
   "cell_type": "markdown",
   "id": "13b9db3a",
   "metadata": {},
   "source": [
    "**Meaning of Limits:**\n",
    "\n",
    "The limit of a function as it approaches a specific value, say 'a,' is denoted as:\n",
    "\n",
    "<h2> $lim_{x \\to a} f(x)$ </h2>\n",
    "\n",
    "This means we want to understand what happens to the function 'f(x)' as 'x' gets closer and closer to 'a.'\n"
   ]
  },
  {
   "cell_type": "markdown",
   "id": "b8bd6d8f",
   "metadata": {},
   "source": [
    "**Real-Life Applications:**\n",
    "\n",
    "Limits are not just abstract mathematical concepts; they have numerous real-life applications. Here are a few examples:\n",
    "\n",
    "1. **Physics:** When calculating the speed of an object at an instant, you might need to find the limit as time approaches zero, which gives you the instantaneous velocity.\n",
    "\n",
    "2. **Economics:** In economics, limits can be used to determine marginal cost and marginal revenue, which are essential for making pricing and production decisions.\n",
    "\n",
    "3. **Engineering:** Engineers use limits to determine stress and strain in materials. For instance, they analyze the limit of a material's strength as it approaches a breaking point.\n",
    "\n",
    "4. **Computer Science:** In computer graphics, limits are used to calculate slopes for smooth curves, ensuring that lines appear continuous and not jagged.\n",
    "\n",
    "5. **Medicine:** In medical research, limits are used to understand the rate of change in biological processes. For example, the rate of growth of a tumor over time.\n"
   ]
  },
  {
   "cell_type": "markdown",
   "id": "f314afed",
   "metadata": {},
   "source": [
    "#### Examples with Solutions:\n",
    "\n",
    "Let's explore five examples of limits and their solutions:\n"
   ]
  },
  {
   "cell_type": "markdown",
   "id": "65a8ab7f",
   "metadata": {},
   "source": [
    "**Example 1:**\n",
    "$lim_{x \\to 2} (x^2 - 4)$\n",
    "\n",
    "**Solution:** As 'x' approaches 2, you can simply substitute 'x' with 2 in the expression:  \n",
    "\n",
    "$(2^2 - 4) = 4 - 4 = 0 $  \n",
    "\n",
    "So, the limit is 0.\n"
   ]
  },
  {
   "cell_type": "markdown",
   "id": "d04527d4",
   "metadata": {},
   "source": [
    "**Example 2:**\n",
    "$lim_{x \\to 0} \\frac{{\\sin(x)}}{x}$\n",
    "\n",
    "**Solution:** This is a common limit in calculus. It equals 1:  \n",
    "$lim_{{x \\to 0}} \\frac{{\\sin(x)}}{x} = 1$\n"
   ]
  },
  {
   "cell_type": "markdown",
   "id": "65c14e70",
   "metadata": {},
   "source": [
    "**Example 3:**\n",
    "$lim_{x \\to 1} \\frac{x^2 - 1}{x - 1}$\n",
    "\n",
    "**Solution:** This is an indeterminate form (0/0) at x = 1. You can simplify it by factoring:  \n",
    "$\\frac{{x^2 - 1}}{{x - 1}} = \\frac{{(x - 1)(x + 1)}}{{x - 1}}$ \n",
    "\n",
    "Now, you can cancel (x - 1):  \n",
    "\n",
    "$lim_{{x \\to 1}} \\frac{{(x - 1)(x + 1)}}{{x - 1}} = \\lim_{{x \\to 1}} (x + 1) = 2 $\n"
   ]
  },
  {
   "cell_type": "markdown",
   "id": "496aa4f0",
   "metadata": {},
   "source": [
    "**Example 4:**\n",
    "<h3> $\\lim_{{x \\to ∞}} \\frac{{3x^2 - 2x}}{2x^2 + x}$ </h3>\n",
    "\n",
    "**Solution:** Divide all terms by the highest power of 'x' in the denominator:\n",
    "<h3> $ \\lim_{{x \\to ∞}} \\frac{{(3x^2/x - 2x/x)}}{{(2x^2/x^2 + x/x)}} = \\lim_{{x \\to ∞}} \\frac{{3 - 2/x}}{{2 + 1/x}} = \\frac{3}{2}$  </h3>  \n",
    "\n",
    "The limit is 3/2.\n"
   ]
  },
  {
   "cell_type": "markdown",
   "id": "23cbd3f4",
   "metadata": {},
   "source": [
    "**Example 5:**\n",
    "<h3>$ \\lim_{{x \\to ∞}} \\sqrt{x^2 + 5x} - x $ </h3>\n",
    "\n",
    "**Solution:** Rationalize the expression to simplify:  \n",
    "<h3> $ \\sqrt{x^2 + 5x} - x \\times \\frac{\\sqrt{x^2 + 5x} + x}{\\sqrt{x^2 + 5x} + x} = \\frac{5x}{\\sqrt{x^2 + 5x} + x} $ </h3>  \n",
    "\n",
    "Now, take the limit:  \n",
    "<h3> $\\lim_{{x \\to ∞}} \\frac{5x}{\\sqrt{x^2 + 5x} + x} = \\frac{5}{\\sqrt{1 + 5/ x} + 1} = \\frac{5}{\\sqrt{1 + 0} + 1} = \\frac{5}{1 + 1} = 2.5 $ </h3>  \n",
    "\n",
    "The limit is 2.5.\n"
   ]
  },
  {
   "cell_type": "markdown",
   "id": "b42c7c9d",
   "metadata": {},
   "source": [
    "## 2. Understanding Differentiation:\n",
    "\n",
    "**Meaning:** Differentiation is the process of finding the rate at which a function changes. It gives us the derivative of a function, often denoted as f'(x) or dy/dx.\n",
    "\n",
    "**Example:** Take the function f(x) = x^2. Its derivative, f'(x), is 2x. This derivative represents the slope of the tangent line to the graph of f(x) at any point x. For example, when x = 2, the slope of the tangent line is 4.\n",
    "\n",
    "\n"
   ]
  },
  {
   "cell_type": "markdown",
   "id": "b92d8726",
   "metadata": {},
   "source": [
    "**Understanding Differentiation:**\n",
    "\n",
    "Differentiation is a fundamental concept in calculus that helps us understand how a function changes as its input (independent variable) changes. It provides information about the rate of change, slopes of curves, and helps identify critical points and extrema (maximum and minimum values) in functions.\n"
   ]
  },
  {
   "cell_type": "markdown",
   "id": "6bccaa7b",
   "metadata": {},
   "source": [
    "**Meaning of Differentiation:**\n",
    "\n",
    "Differentiation involves finding the derivative of a function, often denoted as f'(x), df/dx, or dy/dx, which represents the rate of change of the function with respect to its independent variable.\n"
   ]
  },
  {
   "cell_type": "markdown",
   "id": "ea8efb15",
   "metadata": {},
   "source": [
    "**Real-Life Applications:**\n",
    "\n",
    "Differentiation has countless real-life applications, especially in science, engineering, economics, and more. Here are a few examples:\n",
    "\n",
    "1. **Physics:** Differentiation is used to calculate velocity and acceleration, helping describe the motion of objects. In real-world scenarios, it's applied in calculating the speed of a car, the trajectory of a projectile, or the position of planets.\n",
    "\n",
    "2. **Economics:** In economics, differentiation is used to analyze the marginal cost and marginal revenue, which are vital for making pricing and production decisions in a business.\n",
    "\n",
    "3. **Biology:** It's applied to determine the growth rates of populations, understand enzyme kinetics, and describe the rates of reactions in chemical kinetics.\n",
    "\n",
    "4. **Engineering:** Engineers use differentiation to analyze stress and strain in materials, design and optimize structures, and model electrical circuits' behavior.\n",
    "\n",
    "5. **Computer Graphics:** In computer graphics, differentiation helps render smooth curves, as it's necessary for designing curves, surfaces, and animations in video games and simulations.\n"
   ]
  },
  {
   "cell_type": "markdown",
   "id": "bd4e6b4c",
   "metadata": {},
   "source": [
    "### Now, let's explore five examples of differentiation with step-by-step solutions and explanations."
   ]
  },
  {
   "cell_type": "markdown",
   "id": "8d0ca5cf",
   "metadata": {},
   "source": [
    "**Example 1:**\n",
    "Find the derivative of f(x) = 3x^2.\n",
    "\n",
    "**Solution:**\n",
    "Step 1: Apply the power rule for differentiation. For f(x) = ax^n, the derivative is f'(x) = n * ax^(n-1).  \n",
    "$ f(x) = 3x^2 $  \n",
    "$ f'(x) = 2 * 3x^(2-1) = 6x $\n"
   ]
  },
  {
   "cell_type": "markdown",
   "id": "5d2abc3b",
   "metadata": {},
   "source": [
    "**Example 2:**\n",
    "Find the derivative of g(x) = 2x^3 - 5x^2 + 7x - 3.\n",
    "\n",
    "**Solution:**\n",
    "Step 1: Apply the power rule to each term separately.  \n",
    "$g(x) = 2x^3 - 5x^2 + 7x - 3 $  \n",
    "$ g'(x) = 3 * 2x^(3-1) - 2 * 5x^(2-1) + 1 * 7x^(1-1) - 0 $  \n",
    "$ g'(x) = 6x^2 - 10x + 7 $\n"
   ]
  },
  {
   "cell_type": "markdown",
   "id": "80fceb07",
   "metadata": {},
   "source": [
    "**Example 3:**\n",
    "Find the derivative of h(x) = e^x.\n",
    "\n",
    "**Solution:**\n",
    "Step 1: Apply the differentiation rule for exponential functions.  \n",
    "$ h(x) = e^x $  \n",
    "$ h'(x) = e^x $\n"
   ]
  },
  {
   "cell_type": "markdown",
   "id": "71bcba2e",
   "metadata": {},
   "source": [
    "**Example 4:**\n",
    "Find the derivative of the function k(x) = ln(x).\n",
    "\n",
    "**Solution:**\n",
    "Step 1: Apply the differentiation rule for natural logarithms.  \n",
    "$ k(x) = ln(x) $  \n",
    "$ k'(x) = 1/x $\n"
   ]
  },
  {
   "cell_type": "markdown",
   "id": "34d1aacb",
   "metadata": {},
   "source": [
    "**Example 5:**\n",
    "Find the derivative of the trigonometric function m(x) = sin(x).\n",
    "\n",
    "**Solution:**\n",
    "Step 1: Apply the differentiation rule for trigonometric functions.  \n",
    "$m(x) = sin(x) $  \n",
    "$ m'(x) = cos(x) $\n"
   ]
  },
  {
   "cell_type": "markdown",
   "id": "14b4777e",
   "metadata": {},
   "source": [
    "\n",
    "## 3. Rules for Finding Derivatives:\n",
    "\n",
    "There are several rules for finding derivatives, such as the power rule, product rule, quotient rule, and chain rule, which allow us to differentiate various functions efficiently.\n",
    "\n",
    "**Example:** To differentiate the function g(x) = 3x^3 - 2x^2 + 5x - 7, we apply the power rule to each term. The derivative, g'(x), is 9x^2 - 4x + 5.\n"
   ]
  },
  {
   "cell_type": "markdown",
   "id": "1369014c",
   "metadata": {},
   "source": [
    "**Rules for Finding Derivatives:**\n",
    "\n",
    "Derivatives are a fundamental concept in calculus, and there are several rules and techniques for finding them. These rules help us understand how functions change and provide valuable information about rates of change, slopes, and more.\n"
   ]
  },
  {
   "cell_type": "markdown",
   "id": "58f13f97",
   "metadata": {},
   "source": [
    "**Meaning of Derivative Rules:**\n",
    "\n",
    "Derivative rules are a set of guidelines and formulas used to calculate the derivative of a function. The most commonly used rules include the Power Rule, Product Rule, Quotient Rule, Chain Rule, and the rules for trigonometric and exponential functions.\n"
   ]
  },
  {
   "cell_type": "markdown",
   "id": "3e27cf9e",
   "metadata": {},
   "source": [
    "**Real-Life Applications:**\n",
    "\n",
    "Derivative rules have numerous real-life applications in various fields. Here are a few examples:\n",
    "\n",
    "1. **Physics:** Derivatives are used to calculate velocities and accelerations of objects in motion, such as cars, rockets, and projectiles. They are essential for understanding how things move in the physical world.\n",
    "\n",
    "2. **Economics:** Derivatives help economists analyze demand and supply curves, optimize profit functions, and determine marginal cost and revenue, which are crucial for pricing and production decisions.\n",
    "\n",
    "3. **Engineering:** Engineers use derivatives to design and optimize structures, analyze stress and strain in materials, and model electrical circuits' behavior.\n",
    "\n",
    "4. **Biology:** Derivatives are applied to study growth rates in biological populations, analyze chemical reactions, and model the kinetics of enzyme-catalyzed reactions.\n",
    "\n",
    "5. **Computer Science:** In computer graphics and gaming, derivatives are used to create smooth animations and simulations. They play a significant role in designing realistic 3D environments.\n"
   ]
  },
  {
   "cell_type": "markdown",
   "id": "70dbbca9",
   "metadata": {},
   "source": [
    "### let's explore five examples of derivative rules with step-by-step solutions and explanations for each."
   ]
  },
  {
   "cell_type": "markdown",
   "id": "d0d80e7b",
   "metadata": {},
   "source": [
    "**Example 1: Power Rule**\n",
    "Find the derivative of f(x) = 3x^2.\n",
    "\n",
    "**Solution:**\n",
    "Step 1: Apply the power rule.   \n",
    "$ f(x) = 3x^2 $  \n",
    "$ f'(x) = 2 * 3x^(2-1) = 6x $\n"
   ]
  },
  {
   "cell_type": "markdown",
   "id": "e942ed9f",
   "metadata": {},
   "source": [
    "**Example 2: Product Rule**\n",
    "Find the derivative of g(x) = x^2 * sin(x).\n",
    "\n",
    "**Solution:**\n",
    "Step 1: Apply the product rule: (u * v)' = u'v + uv'.  \n",
    "$g(x) = x^2 \\text{ (u)} $  \n",
    "$ g'(x) = (2x)(sin(x)) + (x^2)(cos(x)) $\n"
   ]
  },
  {
   "cell_type": "markdown",
   "id": "296fd8bb",
   "metadata": {},
   "source": [
    "**Example 3: Quotient Rule**\n",
    "Find the derivative of h(x) = (x^2 + 1) / (x - 1).  \n",
    "\n",
    "**Solution:**\n",
    "Step 1: Apply the quotient rule: (u/v)' = (u'v - uv') / v^2.  \n",
    "$ h(x) = (x^2 + 1) \\text{ (u)} / (x - 1) \\text{ (v)} $\n",
    "$ h'(x) = \\frac{((2x)(x - 1) - (x^2 + 1)(1))}{(x - 1)^2} $\n"
   ]
  },
  {
   "cell_type": "markdown",
   "id": "b92db9f7",
   "metadata": {},
   "source": [
    "**Example 4: Chain Rule**\n",
    "Find the derivative of k(x) = e^(2x).\n",
    "\n",
    "**Solution:**\n",
    "Step 1: Apply the chain rule: (f(g(x)))' = f'(g(x)) * g'(x).  \n",
    "$ k(x) = e^(2x) $  \n",
    "$ k'(x) = (e^(2x)) * (2) $\n"
   ]
  },
  {
   "cell_type": "markdown",
   "id": "a7a18d92",
   "metadata": {},
   "source": [
    "**Example 5: Trigonometric Rule**\n",
    "Find the derivative of m(x) = cos(3x).\n",
    "\n",
    "**Solution:**\n",
    "Step 1: Apply the trigonometric rule for cos(kx), where k is a constant: d/dx [cos(kx)] = -k * sin(kx.  \n",
    "$ m(x) = cos(3x)$  \n",
    "$ m'(x) = -3 * sin(3x) $\n"
   ]
  },
  {
   "cell_type": "markdown",
   "id": "0234696e",
   "metadata": {},
   "source": [
    "## 4. Calculating Definite and Indefinite Integrals:\n",
    "\n",
    "**Meaning:** Integration is the process of finding the accumulation of a function over an interval. The definite integral calculates the exact accumulated value, while the indefinite integral finds a family of functions that, when differentiated, yield the original function.\n",
    "\n",
    "**Example (Indefinite Integral):** To find the indefinite integral of h(x) = 2x, we use the power rule for integration. The result is H(x) = x^2 + C, where C is the constant of integration.\n",
    "\n",
    "**Example (Definite Integral):** To find the definite integral of a function, such as ∫[0, 2] 2x dx, we calculate the antiderivative and evaluate it at the limits of integration. In this case, it equals 4.\n"
   ]
  },
  {
   "cell_type": "markdown",
   "id": "4a8ad88e",
   "metadata": {},
   "source": [
    "**Calculating Definite and Indefinite Integrals:**\n",
    "\n",
    "Integrals are a fundamental concept in calculus that involve finding the accumulation or total of a function over a given interval. There are two main types of integrals: indefinite integrals and definite integrals.\n"
   ]
  },
  {
   "cell_type": "markdown",
   "id": "4f0a0fbe",
   "metadata": {},
   "source": [
    "**Meaning of Integrals:**\n",
    "\n",
    "1. **Indefinite Integral (Antiderivative):** This represents a family of functions that, when differentiated, yield the original function. It is often denoted as ∫f(x) dx, where ∫ is the integral symbol.\n",
    "\n",
    "2. **Definite Integral:** This calculates the exact accumulated value of a function over a specified interval. It is denoted as ∫[a, b] f(x) dx, where 'a' and 'b' are the lower and upper limits of integration.\n"
   ]
  },
  {
   "cell_type": "markdown",
   "id": "4aa41bd2",
   "metadata": {},
   "source": [
    "**Real-Life Applications:**\n",
    "\n",
    "Integrals have numerous real-life applications, and here are a few examples:\n",
    "\n",
    "1. **Physics:** Integrals are used to calculate quantities like displacement, velocity, and acceleration in the context of motion, such as finding the distance traveled by a moving object.\n",
    "\n",
    "2. **Engineering:** Engineers apply integrals to determine quantities like the work done in systems, fluid flow, and stress analysis in structures.\n",
    "\n",
    "3. **Economics:** In economics, integrals help calculate the total profit, cost, and revenue over time, which is essential for economic analysis.\n",
    "\n",
    "4. **Geometry:** Integrals are used in geometry to calculate areas, volumes, and surface areas of complex shapes, like determining the area under a curve.\n",
    "\n",
    "5. **Statistics:** In statistics, integrals are used to calculate probabilities and expected values of continuous random variables, helping in statistical analysis and modeling.\n"
   ]
  },
  {
   "cell_type": "markdown",
   "id": "eb7b4afe",
   "metadata": {},
   "source": [
    "### Now, let's explore five examples of definite and indefinite integrals with step-by-step solutions and explanations for each."
   ]
  },
  {
   "cell_type": "markdown",
   "id": "7932d518",
   "metadata": {},
   "source": [
    "**Example 1: Indefinite Integral (Antiderivative)**\n",
    "Find the indefinite integral of f(x) = 2x.\n",
    "\n",
    "**Solution:**\n",
    "Step 1: Apply the power rule for integration.  \n",
    "$ ∫2x dx = 2 * ∫x dx $  \n",
    "\n",
    "Step 2: Integrate with respect to 'x'.  \n",
    "$ = 2 * (x^2/2) + C $  \n",
    "$ = x^2 + C $\n"
   ]
  },
  {
   "cell_type": "markdown",
   "id": "787ceb55",
   "metadata": {},
   "source": [
    "**Example 2: Definite Integral**\n",
    "Calculate the definite integral of g(x) = x^2 from x = 1 to x = 3.\n",
    "\n",
    "**Solution:**\n",
    "Step 1: Apply the definite integral notation and the fundamental theorem of calculus.\n",
    "\\[ ∫[1, 3] x^2 dx = [x^3/3]_{1}^{3} \\] \n",
    "\n",
    "Step 2: Evaluate at the upper and lower limits.  \n",
    "$ = (3^3/3) - (1^3/3) $  \n",
    "$ = (27/3) - (1/3) $  \n",
    "$ = 9 - 1$  \n",
    "$ = 8 $\n"
   ]
  },
  {
   "cell_type": "markdown",
   "id": "71cc81e4",
   "metadata": {},
   "source": [
    "**Example 3: Indefinite Integral (Antiderivative)**\n",
    "Find the indefinite integral of h(x) = e^x.\n",
    "\n",
    "**Solution:**\n",
    "Step 1: Apply the integral rule for the exponential function.  \n",
    "$ ∫e^x dx = e^x + C $\n"
   ]
  },
  {
   "cell_type": "markdown",
   "id": "b4be451f",
   "metadata": {},
   "source": [
    "**Example 4: Definite Integral**\n",
    "Calculate the definite integral of m(x) = 2x from x = 0 to x = 4.\n",
    "\n",
    "**Solution:**\n",
    "Step 1: Apply the definite integral notation and the fundamental theorem of calculus.  \n",
    "$ ∫[0, 4] 2x dx = [x^2]_{0}^{4} $  \n",
    "\n",
    "Step 2: Evaluate at the upper and lower limits.  \n",
    "$ = (4^2) - (0^2) $  \n",
    "$ = 16 - 0 $  \n",
    "$ = 16 $\n"
   ]
  },
  {
   "cell_type": "markdown",
   "id": "40805a62",
   "metadata": {},
   "source": [
    "**Example 5: Indefinite Integral (Antiderivative)**\n",
    "Find the indefinite integral of k(x) = sin(x).\n",
    "\n",
    "**Solution:**\n",
    "Step 1: Apply the integral rule for the sine function.    \n",
    "$ ∫sin(x) dx = -cos(x) + C $\n"
   ]
  },
  {
   "cell_type": "code",
   "execution_count": null,
   "id": "747312e9",
   "metadata": {},
   "outputs": [],
   "source": []
  }
 ],
 "metadata": {
  "kernelspec": {
   "display_name": "Python 3 (ipykernel)",
   "language": "python",
   "name": "python3"
  },
  "language_info": {
   "codemirror_mode": {
    "name": "ipython",
    "version": 3
   },
   "file_extension": ".py",
   "mimetype": "text/x-python",
   "name": "python",
   "nbconvert_exporter": "python",
   "pygments_lexer": "ipython3",
   "version": "3.10.12"
  }
 },
 "nbformat": 4,
 "nbformat_minor": 5
}
