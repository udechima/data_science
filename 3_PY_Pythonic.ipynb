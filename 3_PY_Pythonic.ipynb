{
 "cells": [
  {
   "cell_type": "markdown",
   "metadata": {},
   "source": [
    "# Pythonisms"
   ]
  },
  {
   "cell_type": "markdown",
   "metadata": {},
   "source": [
    "Much of what we covered in the previous notebook can be fairly generally applicable.  Even the Python syntax is quite similar to other languages in the C family.  But there are a few things that every language chooses how to do beyond just syntax (although many new languages do take some inspiration from the Python way of doing things).  The things we will go over here\n",
    "\n",
    "* What is Pythonic?\n",
    "* Float Division\n",
    "* Python `import` system\n",
    "* Exceptions\n",
    "* How to debug Python\n",
    "\n",
    "\n",
    "Lets start by what we mean by the Python way of doing things."
   ]
  },
  {
   "cell_type": "markdown",
   "metadata": {},
   "source": [
    "## `Pythonic`\n",
    "\n",
    "When learning Python, you will probably browse blogs and other web resources that claim certain things are `Pythonic`.  Python has an opinionated way of doing things, mostly captured in the Zen of Python"
   ]
  },
  {
   "cell_type": "code",
   "execution_count": null,
   "metadata": {},
   "outputs": [],
   "source": [
    "import this"
   ]
  },
  {
   "cell_type": "markdown",
   "metadata": {},
   "source": [
    "`Pythonic` practices are those which the general Python community has agreed are preferable, sometimes this is purely a stylistic consideration and other times it may be related to the way the Python runs.\n",
    "\n",
    "Making your code `Pythonic` can also be useful when other Python programmers need to interact with it as they will be familiar with the idioms and paradigms you use.  "
   ]
  },
  {
   "cell_type": "markdown",
   "metadata": {},
   "source": [
    "## Imports\n",
    "\n",
    "In the cells above you might have noticed we used the `import <package>` syntax.  This construct allows us to include code from other python files or more generally modules (collections of files) and packages (collection of modules) into the current code we are working with.  For the purposes of this course, we have installed all the packages you will need on your machine, but for working with packages, some recommended tools (think package managers) are \n",
    "\n",
    "- conda\n",
    "- pip\n",
    "\n",
    "With installed packages (usually installed with one of those two \"package managers\"), we can import the package with the `import` command.  We can also import only parts of the package.  For example, one package we will use in the course is called `pandas`.  We can import `pandas`"
   ]
  },
  {
   "cell_type": "code",
   "execution_count": 1,
   "metadata": {},
   "outputs": [
    {
     "data": {
      "text/plain": [
       "<module 'pandas' from '/home/amos/anaconda3/lib/python3.7/site-packages/pandas/__init__.py'>"
      ]
     },
     "execution_count": 1,
     "metadata": {},
     "output_type": "execute_result"
    }
   ],
   "source": [
    "import pandas\n",
    "pandas"
   ]
  },
  {
   "cell_type": "markdown",
   "metadata": {},
   "source": [
    "We can also import pandas, but call it something else (saves a bit of typing and is conventional for some of the main packages in the Python scientific stack)."
   ]
  },
  {
   "cell_type": "code",
   "execution_count": 3,
   "metadata": {},
   "outputs": [
    {
     "data": {
      "text/plain": [
       "<module 'pandas' from '/home/amos/anaconda3/lib/python3.7/site-packages/pandas/__init__.py'>"
      ]
     },
     "execution_count": 3,
     "metadata": {},
     "output_type": "execute_result"
    }
   ],
   "source": [
    "import pandas as pd\n",
    "pd"
   ]
  },
  {
   "cell_type": "markdown",
   "metadata": {},
   "source": [
    "Now when we want to use a function or class from pandas, we need to call it with the syntax `pd.function` or `pd.class`.  For example, the `DataFrame` object"
   ]
  },
  {
   "cell_type": "code",
   "execution_count": 4,
   "metadata": {},
   "outputs": [
    {
     "data": {
      "text/plain": [
       "pandas.core.frame.DataFrame"
      ]
     },
     "execution_count": 4,
     "metadata": {},
     "output_type": "execute_result"
    }
   ],
   "source": [
    "pd.DataFrame"
   ]
  },
  {
   "cell_type": "markdown",
   "metadata": {},
   "source": [
    "Note that this DataFrame does not exist in the main namespace."
   ]
  },
  {
   "cell_type": "code",
   "execution_count": 6,
   "metadata": {},
   "outputs": [
    {
     "ename": "NameError",
     "evalue": "name 'DataFrame' is not defined",
     "output_type": "error",
     "traceback": [
      "\u001b[0;31m---------------------------------------------------------------------------\u001b[0m",
      "\u001b[0;31mNameError\u001b[0m                                 Traceback (most recent call last)",
      "\u001b[0;32m<ipython-input-6-be86a8bcaa5e>\u001b[0m in \u001b[0;36m<module>\u001b[0;34m\u001b[0m\n\u001b[0;32m----> 1\u001b[0;31m \u001b[0mDataFrame\u001b[0m\u001b[0;34m\u001b[0m\u001b[0;34m\u001b[0m\u001b[0m\n\u001b[0m",
      "\u001b[0;31mNameError\u001b[0m: name 'DataFrame' is not defined"
     ]
    }
   ],
   "source": [
    "DataFrame\n"
   ]
  },
  {
   "cell_type": "markdown",
   "metadata": {},
   "source": [
    "We can also just import parts of a package, we can even import them and give them another name!"
   ]
  },
  {
   "cell_type": "code",
   "execution_count": 6,
   "metadata": {},
   "outputs": [
    {
     "data": {
      "text/plain": [
       "pandas.core.frame.DataFrame"
      ]
     },
     "execution_count": 6,
     "metadata": {},
     "output_type": "execute_result"
    }
   ],
   "source": [
    "from pandas import DataFrame as dframe\n",
    "dframe"
   ]
  },
  {
   "cell_type": "markdown",
   "metadata": {},
   "source": [
    "Another thing we can do is to import everything into the main namespace using the syntax\n",
    "\n",
    "```python\n",
    "\n",
    "from pandas import *\n",
    "```\n",
    "\n",
    "This is highly discouraged because it can cause problems when multiple packages have a function or class with the same name (not uncommon, think about a function like `.info`).\n",
    "\n",
    "We have covered the basic mechanics of the import system, but what does it allow us to do?  Having a sane packaging system allows Python users to package bundles of functionality into modules and packages which can be imported into other bits of codes.  If well written, these packages operate mostly like black boxes, where the user understands ___what___ the package is doing, but not necessarily ___how___ it is performing its functionality.  \n",
    "\n",
    "While it may seem like this is giving up too much control, most of us don't understand exactly how our computer processor works, or even the keyboard, yet we are perfectly comfortable using them to serve their purpose. Packages are similar and when written well can be invaluable tools that allows us incorporate well written tested code that does powerful things into our applications with very little difficulty."
   ]
  },
  {
   "cell_type": "markdown",
   "metadata": {},
   "source": [
    "## Standard Library\n",
    "\n",
    "One useful thing we can do with `import` statements is import packages in the Python standard library.  These are packages which are packaged with the interpreter and available on (almost) any Python installation.  These packages serve a wide variety of purposes, here we have listed just a few along with their description.  For the rest, checkout the [documentation](https://docs.python.org/3/library/).\n",
    "\n",
    "- `collections` - containers\n",
    "- `re` - regular expressions\n",
    "- `datetime` - date and time handling\n",
    "- `heapq` - the heap queue algorithm\n",
    "- `itertools` - functions for help with iteration\n",
    "- `functools` - function to assist with functional programming\n",
    "- `os` - operating system interfaces\n",
    "- `sys` - system functions\n",
    "- `pickle` - serialize Python objects\n",
    "- `gzip` - work with Gzipped files\n",
    "- `time` - time access\n",
    "- `argparse` - command line argument handling\n",
    "- `threading` - threading interface\n",
    "- `multiprocessing` - process based \"threading\"\n",
    "- `subprocess` - subprocess management\n",
    "- `unittest` - testing tools\n",
    "- `pdb` - debugger\n",
    "\n",
    "\n",
    "\n",
    "\n",
    "These packages are optimized, reliable, and available anywhere there is a Python installation, so use them when you can!"
   ]
  },
  {
   "cell_type": "code",
   "execution_count": 10,
   "metadata": {},
   "outputs": [
    {
     "data": {
      "text/plain": [
       "<module 'datetime' from '/home/amos/anaconda3/lib/python3.7/datetime.py'>"
      ]
     },
     "execution_count": 10,
     "metadata": {},
     "output_type": "execute_result"
    }
   ],
   "source": [
    "import datetime as dt\n",
    "dt"
   ]
  },
  {
   "cell_type": "markdown",
   "metadata": {},
   "source": [
    "### Imports Exercise\n",
    "\n",
    "1. `import` the `seaborn` package and give it the name `sns`\n",
    "2. What are some other modules in the `seaborn` package?"
   ]
  },
  {
   "cell_type": "markdown",
   "metadata": {},
   "source": [
    "## Exceptions\n",
    "\n",
    "An exception is something that deviates from the norm.  In Python its no different, exceptions are when your program deviates from expected behavior.  The Python interpreter will attempt to execute any code that it's given and when it can't, it will raise an `Exception`.  In our notebooks you will note that we have been receiving execption notices from the Python interpreter since our lesson 1 class. For example, lets try to add a number to a string."
   ]
  },
  {
   "cell_type": "code",
   "execution_count": 1,
   "metadata": {},
   "outputs": [
    {
     "ename": "TypeError",
     "evalue": "unsupported operand type(s) for +: 'int' and 'str'",
     "output_type": "error",
     "traceback": [
      "\u001b[0;31m---------------------------------------------------------------------------\u001b[0m",
      "\u001b[0;31mTypeError\u001b[0m                                 Traceback (most recent call last)",
      "\u001b[0;32m<ipython-input-1-8fd9dcfa4f42>\u001b[0m in \u001b[0;36m<module>\u001b[0;34m\u001b[0m\n\u001b[0;32m----> 1\u001b[0;31m \u001b[0;36m2\u001b[0m \u001b[0;34m+\u001b[0m \u001b[0;34m'3'\u001b[0m\u001b[0;34m\u001b[0m\u001b[0;34m\u001b[0m\u001b[0m\n\u001b[0m",
      "\u001b[0;31mTypeError\u001b[0m: unsupported operand type(s) for +: 'int' and 'str'"
     ]
    }
   ],
   "source": [
    "2 + '3'"
   ]
  },
  {
   "cell_type": "markdown",
   "metadata": {},
   "source": [
    "We can see that this raises a `TypeError` because Python doesn't know how to add a string and an integer together (Python will not coerce one of the values into a different type; remember the Zen of Python: 'In the face of ambiguity, refuse the temptation to guess').\n",
    "\n",
    "Exceptions are often very readable and helpful to debug code, however, we can also write code to handle exceptions when they occur.  Lets write a function which adds things together (basically just another version of the add function) except it will catch the `TypeError` and do some conversion."
   ]
  },
  {
   "cell_type": "code",
   "execution_count": 1,
   "metadata": {},
   "outputs": [],
   "source": [
    "def add(x, y):\n",
    "    try:\n",
    "        return x + y\n",
    "    except TypeError:      # if the error is a TypeError\n",
    "        return float(x) + float(y)     # coerce the input values into floats"
   ]
  },
  {
   "cell_type": "markdown",
   "metadata": {},
   "source": [
    "Now lets run something similar to the previous example"
   ]
  },
  {
   "cell_type": "code",
   "execution_count": 5,
   "metadata": {},
   "outputs": [
    {
     "data": {
      "text/plain": [
       "5.0"
      ]
     },
     "execution_count": 5,
     "metadata": {},
     "output_type": "execute_result"
    }
   ],
   "source": [
    "add(2, '3')"
   ]
  },
  {
   "cell_type": "markdown",
   "metadata": {},
   "source": [
    "As seen above, the way to handle Exceptions is with the `try` and `except` keywords.  The `try` block specifies a bit of code to try to run and the `except` block handles all exceptions that are specifically enumerated.  One can also catch ___all___ exceptions by doing\n",
    "\n",
    "```python\n",
    "\n",
    "try:\n",
    "    func()\n",
    "except:\n",
    "    handle_exception()\n",
    "    \n",
    "```\n",
    "\n",
    "But this is not generally a good idea since Python uses Exceptions for all sorts of things (sometimes even exiting programs) and you don't want to catch Exceptions which Python is using for a different purpose.  Think of `Exception` handling as handling the small probability things that will happen in your code, not as a tool to anticipate anything."
   ]
  },
  {
   "cell_type": "markdown",
   "metadata": {},
   "source": [
    "## Python Debugging\n",
    "\n",
    "We have seen how to handle errors with `Exceptions`, but how do we figure out what's wrong when we have errors that we haven't handled?\n",
    "\n",
    "Lets look again at our previous example."
   ]
  },
  {
   "cell_type": "code",
   "execution_count": 2,
   "metadata": {},
   "outputs": [
    {
     "ename": "TypeError",
     "evalue": "unsupported operand type(s) for +: 'int' and 'str'",
     "output_type": "error",
     "traceback": [
      "\u001b[0;31m---------------------------------------------------------------------------\u001b[0m",
      "\u001b[0;31mTypeError\u001b[0m                                 Traceback (most recent call last)",
      "\u001b[0;32m<ipython-input-2-8fd9dcfa4f42>\u001b[0m in \u001b[0;36m<module>\u001b[0;34m\u001b[0m\n\u001b[0;32m----> 1\u001b[0;31m \u001b[0;36m2\u001b[0m \u001b[0;34m+\u001b[0m \u001b[0;34m'3'\u001b[0m\u001b[0;34m\u001b[0m\u001b[0;34m\u001b[0m\u001b[0m\n\u001b[0m",
      "\u001b[0;31mTypeError\u001b[0m: unsupported operand type(s) for +: 'int' and 'str'"
     ]
    }
   ],
   "source": [
    "2 + '3'"
   ]
  },
  {
   "cell_type": "markdown",
   "metadata": {},
   "source": [
    "If we look at the returned text, referred to as a `Traceback`, we can see much useful information.  Tracebacks should be read starting from the bottom and working up.  In this case the Traceback tells us exactly what happened, we tried to add an `int` and a `str` and there is no way to do this.  It even points to the exact line of code where this error occurs. The `Traceback` also tells us the `Type` of error we have. In this case it is a `TypeError`. This is usefull for Google or StackOverflow search.\n",
    "\n",
    "Let's take a look at a more complicated Traceback by creating a pandas `DataFrame` with illegal arguments."
   ]
  },
  {
   "cell_type": "code",
   "execution_count": 7,
   "metadata": {},
   "outputs": [
    {
     "ename": "ValueError",
     "evalue": "Shape of passed values is (3, 1), indices imply (1, 1)",
     "output_type": "error",
     "traceback": [
      "\u001b[0;31m---------------------------------------------------------------------------\u001b[0m",
      "\u001b[0;31mValueError\u001b[0m                                Traceback (most recent call last)",
      "\u001b[0;32m~/anaconda3/lib/python3.7/site-packages/pandas/core/internals/managers.py\u001b[0m in \u001b[0;36mcreate_block_manager_from_blocks\u001b[0;34m(blocks, axes)\u001b[0m\n\u001b[1;32m   1680\u001b[0m \u001b[0;34m\u001b[0m\u001b[0m\n\u001b[0;32m-> 1681\u001b[0;31m         \u001b[0mmgr\u001b[0m \u001b[0;34m=\u001b[0m \u001b[0mBlockManager\u001b[0m\u001b[0;34m(\u001b[0m\u001b[0mblocks\u001b[0m\u001b[0;34m,\u001b[0m \u001b[0maxes\u001b[0m\u001b[0;34m)\u001b[0m\u001b[0;34m\u001b[0m\u001b[0;34m\u001b[0m\u001b[0m\n\u001b[0m\u001b[1;32m   1682\u001b[0m         \u001b[0mmgr\u001b[0m\u001b[0;34m.\u001b[0m\u001b[0m_consolidate_inplace\u001b[0m\u001b[0;34m(\u001b[0m\u001b[0;34m)\u001b[0m\u001b[0;34m\u001b[0m\u001b[0;34m\u001b[0m\u001b[0m\n",
      "\u001b[0;32m~/anaconda3/lib/python3.7/site-packages/pandas/core/internals/managers.py\u001b[0m in \u001b[0;36m__init__\u001b[0;34m(self, blocks, axes, do_integrity_check)\u001b[0m\n\u001b[1;32m    142\u001b[0m         \u001b[0;32mif\u001b[0m \u001b[0mdo_integrity_check\u001b[0m\u001b[0;34m:\u001b[0m\u001b[0;34m\u001b[0m\u001b[0;34m\u001b[0m\u001b[0m\n\u001b[0;32m--> 143\u001b[0;31m             \u001b[0mself\u001b[0m\u001b[0;34m.\u001b[0m\u001b[0m_verify_integrity\u001b[0m\u001b[0;34m(\u001b[0m\u001b[0;34m)\u001b[0m\u001b[0;34m\u001b[0m\u001b[0;34m\u001b[0m\u001b[0m\n\u001b[0m\u001b[1;32m    144\u001b[0m \u001b[0;34m\u001b[0m\u001b[0m\n",
      "\u001b[0;32m~/anaconda3/lib/python3.7/site-packages/pandas/core/internals/managers.py\u001b[0m in \u001b[0;36m_verify_integrity\u001b[0;34m(self)\u001b[0m\n\u001b[1;32m    344\u001b[0m             \u001b[0;32mif\u001b[0m \u001b[0mblock\u001b[0m\u001b[0;34m.\u001b[0m\u001b[0m_verify_integrity\u001b[0m \u001b[0;32mand\u001b[0m \u001b[0mblock\u001b[0m\u001b[0;34m.\u001b[0m\u001b[0mshape\u001b[0m\u001b[0;34m[\u001b[0m\u001b[0;36m1\u001b[0m\u001b[0;34m:\u001b[0m\u001b[0;34m]\u001b[0m \u001b[0;34m!=\u001b[0m \u001b[0mmgr_shape\u001b[0m\u001b[0;34m[\u001b[0m\u001b[0;36m1\u001b[0m\u001b[0;34m:\u001b[0m\u001b[0;34m]\u001b[0m\u001b[0;34m:\u001b[0m\u001b[0;34m\u001b[0m\u001b[0;34m\u001b[0m\u001b[0m\n\u001b[0;32m--> 345\u001b[0;31m                 \u001b[0mconstruction_error\u001b[0m\u001b[0;34m(\u001b[0m\u001b[0mtot_items\u001b[0m\u001b[0;34m,\u001b[0m \u001b[0mblock\u001b[0m\u001b[0;34m.\u001b[0m\u001b[0mshape\u001b[0m\u001b[0;34m[\u001b[0m\u001b[0;36m1\u001b[0m\u001b[0;34m:\u001b[0m\u001b[0;34m]\u001b[0m\u001b[0;34m,\u001b[0m \u001b[0mself\u001b[0m\u001b[0;34m.\u001b[0m\u001b[0maxes\u001b[0m\u001b[0;34m)\u001b[0m\u001b[0;34m\u001b[0m\u001b[0;34m\u001b[0m\u001b[0m\n\u001b[0m\u001b[1;32m    346\u001b[0m         \u001b[0;32mif\u001b[0m \u001b[0mlen\u001b[0m\u001b[0;34m(\u001b[0m\u001b[0mself\u001b[0m\u001b[0;34m.\u001b[0m\u001b[0mitems\u001b[0m\u001b[0;34m)\u001b[0m \u001b[0;34m!=\u001b[0m \u001b[0mtot_items\u001b[0m\u001b[0;34m:\u001b[0m\u001b[0;34m\u001b[0m\u001b[0;34m\u001b[0m\u001b[0m\n",
      "\u001b[0;32m~/anaconda3/lib/python3.7/site-packages/pandas/core/internals/managers.py\u001b[0m in \u001b[0;36mconstruction_error\u001b[0;34m(tot_items, block_shape, axes, e)\u001b[0m\n\u001b[1;32m   1718\u001b[0m     raise ValueError(\n\u001b[0;32m-> 1719\u001b[0;31m         \u001b[0;34m\"Shape of passed values is {0}, indices imply {1}\"\u001b[0m\u001b[0;34m.\u001b[0m\u001b[0mformat\u001b[0m\u001b[0;34m(\u001b[0m\u001b[0mpassed\u001b[0m\u001b[0;34m,\u001b[0m \u001b[0mimplied\u001b[0m\u001b[0;34m)\u001b[0m\u001b[0;34m\u001b[0m\u001b[0;34m\u001b[0m\u001b[0m\n\u001b[0m\u001b[1;32m   1720\u001b[0m     )\n",
      "\u001b[0;31mValueError\u001b[0m: Shape of passed values is (3, 1), indices imply (1, 1)",
      "\nDuring handling of the above exception, another exception occurred:\n",
      "\u001b[0;31mValueError\u001b[0m                                Traceback (most recent call last)",
      "\u001b[0;32m<ipython-input-7-4640819d2288>\u001b[0m in \u001b[0;36m<module>\u001b[0;34m\u001b[0m\n\u001b[0;32m----> 1\u001b[0;31m \u001b[0mpd\u001b[0m\u001b[0;34m.\u001b[0m\u001b[0mDataFrame\u001b[0m\u001b[0;34m(\u001b[0m\u001b[0;34m[\u001b[0m\u001b[0;34m'one'\u001b[0m\u001b[0;34m,\u001b[0m\u001b[0;34m'two'\u001b[0m\u001b[0;34m,\u001b[0m\u001b[0;34m'three'\u001b[0m\u001b[0;34m]\u001b[0m\u001b[0;34m,\u001b[0m\u001b[0;34m[\u001b[0m\u001b[0;34m'test1'\u001b[0m\u001b[0;34m]\u001b[0m\u001b[0;34m)\u001b[0m\u001b[0;34m\u001b[0m\u001b[0;34m\u001b[0m\u001b[0m\n\u001b[0m",
      "\u001b[0;32m~/anaconda3/lib/python3.7/site-packages/pandas/core/frame.py\u001b[0m in \u001b[0;36m__init__\u001b[0;34m(self, data, index, columns, dtype, copy)\u001b[0m\n\u001b[1;32m    462\u001b[0m                     \u001b[0mmgr\u001b[0m \u001b[0;34m=\u001b[0m \u001b[0marrays_to_mgr\u001b[0m\u001b[0;34m(\u001b[0m\u001b[0marrays\u001b[0m\u001b[0;34m,\u001b[0m \u001b[0mcolumns\u001b[0m\u001b[0;34m,\u001b[0m \u001b[0mindex\u001b[0m\u001b[0;34m,\u001b[0m \u001b[0mcolumns\u001b[0m\u001b[0;34m,\u001b[0m \u001b[0mdtype\u001b[0m\u001b[0;34m=\u001b[0m\u001b[0mdtype\u001b[0m\u001b[0;34m)\u001b[0m\u001b[0;34m\u001b[0m\u001b[0;34m\u001b[0m\u001b[0m\n\u001b[1;32m    463\u001b[0m                 \u001b[0;32melse\u001b[0m\u001b[0;34m:\u001b[0m\u001b[0;34m\u001b[0m\u001b[0;34m\u001b[0m\u001b[0m\n\u001b[0;32m--> 464\u001b[0;31m                     \u001b[0mmgr\u001b[0m \u001b[0;34m=\u001b[0m \u001b[0minit_ndarray\u001b[0m\u001b[0;34m(\u001b[0m\u001b[0mdata\u001b[0m\u001b[0;34m,\u001b[0m \u001b[0mindex\u001b[0m\u001b[0;34m,\u001b[0m \u001b[0mcolumns\u001b[0m\u001b[0;34m,\u001b[0m \u001b[0mdtype\u001b[0m\u001b[0;34m=\u001b[0m\u001b[0mdtype\u001b[0m\u001b[0;34m,\u001b[0m \u001b[0mcopy\u001b[0m\u001b[0;34m=\u001b[0m\u001b[0mcopy\u001b[0m\u001b[0;34m)\u001b[0m\u001b[0;34m\u001b[0m\u001b[0;34m\u001b[0m\u001b[0m\n\u001b[0m\u001b[1;32m    465\u001b[0m             \u001b[0;32melse\u001b[0m\u001b[0;34m:\u001b[0m\u001b[0;34m\u001b[0m\u001b[0;34m\u001b[0m\u001b[0m\n\u001b[1;32m    466\u001b[0m                 \u001b[0mmgr\u001b[0m \u001b[0;34m=\u001b[0m \u001b[0minit_dict\u001b[0m\u001b[0;34m(\u001b[0m\u001b[0;34m{\u001b[0m\u001b[0;34m}\u001b[0m\u001b[0;34m,\u001b[0m \u001b[0mindex\u001b[0m\u001b[0;34m,\u001b[0m \u001b[0mcolumns\u001b[0m\u001b[0;34m,\u001b[0m \u001b[0mdtype\u001b[0m\u001b[0;34m=\u001b[0m\u001b[0mdtype\u001b[0m\u001b[0;34m)\u001b[0m\u001b[0;34m\u001b[0m\u001b[0;34m\u001b[0m\u001b[0m\n",
      "\u001b[0;32m~/anaconda3/lib/python3.7/site-packages/pandas/core/internals/construction.py\u001b[0m in \u001b[0;36minit_ndarray\u001b[0;34m(values, index, columns, dtype, copy)\u001b[0m\n\u001b[1;32m    211\u001b[0m         \u001b[0mblock_values\u001b[0m \u001b[0;34m=\u001b[0m \u001b[0;34m[\u001b[0m\u001b[0mvalues\u001b[0m\u001b[0;34m]\u001b[0m\u001b[0;34m\u001b[0m\u001b[0;34m\u001b[0m\u001b[0m\n\u001b[1;32m    212\u001b[0m \u001b[0;34m\u001b[0m\u001b[0m\n\u001b[0;32m--> 213\u001b[0;31m     \u001b[0;32mreturn\u001b[0m \u001b[0mcreate_block_manager_from_blocks\u001b[0m\u001b[0;34m(\u001b[0m\u001b[0mblock_values\u001b[0m\u001b[0;34m,\u001b[0m \u001b[0;34m[\u001b[0m\u001b[0mcolumns\u001b[0m\u001b[0;34m,\u001b[0m \u001b[0mindex\u001b[0m\u001b[0;34m]\u001b[0m\u001b[0;34m)\u001b[0m\u001b[0;34m\u001b[0m\u001b[0;34m\u001b[0m\u001b[0m\n\u001b[0m\u001b[1;32m    214\u001b[0m \u001b[0;34m\u001b[0m\u001b[0m\n\u001b[1;32m    215\u001b[0m \u001b[0;34m\u001b[0m\u001b[0m\n",
      "\u001b[0;32m~/anaconda3/lib/python3.7/site-packages/pandas/core/internals/managers.py\u001b[0m in \u001b[0;36mcreate_block_manager_from_blocks\u001b[0;34m(blocks, axes)\u001b[0m\n\u001b[1;32m   1686\u001b[0m         \u001b[0mblocks\u001b[0m \u001b[0;34m=\u001b[0m \u001b[0;34m[\u001b[0m\u001b[0mgetattr\u001b[0m\u001b[0;34m(\u001b[0m\u001b[0mb\u001b[0m\u001b[0;34m,\u001b[0m \u001b[0;34m\"values\"\u001b[0m\u001b[0;34m,\u001b[0m \u001b[0mb\u001b[0m\u001b[0;34m)\u001b[0m \u001b[0;32mfor\u001b[0m \u001b[0mb\u001b[0m \u001b[0;32min\u001b[0m \u001b[0mblocks\u001b[0m\u001b[0;34m]\u001b[0m\u001b[0;34m\u001b[0m\u001b[0;34m\u001b[0m\u001b[0m\n\u001b[1;32m   1687\u001b[0m         \u001b[0mtot_items\u001b[0m \u001b[0;34m=\u001b[0m \u001b[0msum\u001b[0m\u001b[0;34m(\u001b[0m\u001b[0mb\u001b[0m\u001b[0;34m.\u001b[0m\u001b[0mshape\u001b[0m\u001b[0;34m[\u001b[0m\u001b[0;36m0\u001b[0m\u001b[0;34m]\u001b[0m \u001b[0;32mfor\u001b[0m \u001b[0mb\u001b[0m \u001b[0;32min\u001b[0m \u001b[0mblocks\u001b[0m\u001b[0;34m)\u001b[0m\u001b[0;34m\u001b[0m\u001b[0;34m\u001b[0m\u001b[0m\n\u001b[0;32m-> 1688\u001b[0;31m         \u001b[0mconstruction_error\u001b[0m\u001b[0;34m(\u001b[0m\u001b[0mtot_items\u001b[0m\u001b[0;34m,\u001b[0m \u001b[0mblocks\u001b[0m\u001b[0;34m[\u001b[0m\u001b[0;36m0\u001b[0m\u001b[0;34m]\u001b[0m\u001b[0;34m.\u001b[0m\u001b[0mshape\u001b[0m\u001b[0;34m[\u001b[0m\u001b[0;36m1\u001b[0m\u001b[0;34m:\u001b[0m\u001b[0;34m]\u001b[0m\u001b[0;34m,\u001b[0m \u001b[0maxes\u001b[0m\u001b[0;34m,\u001b[0m \u001b[0me\u001b[0m\u001b[0;34m)\u001b[0m\u001b[0;34m\u001b[0m\u001b[0;34m\u001b[0m\u001b[0m\n\u001b[0m\u001b[1;32m   1689\u001b[0m \u001b[0;34m\u001b[0m\u001b[0m\n\u001b[1;32m   1690\u001b[0m \u001b[0;34m\u001b[0m\u001b[0m\n",
      "\u001b[0;32m~/anaconda3/lib/python3.7/site-packages/pandas/core/internals/managers.py\u001b[0m in \u001b[0;36mconstruction_error\u001b[0;34m(tot_items, block_shape, axes, e)\u001b[0m\n\u001b[1;32m   1717\u001b[0m         \u001b[0;32mraise\u001b[0m \u001b[0mValueError\u001b[0m\u001b[0;34m(\u001b[0m\u001b[0;34m\"Empty data passed with indices specified.\"\u001b[0m\u001b[0;34m)\u001b[0m\u001b[0;34m\u001b[0m\u001b[0;34m\u001b[0m\u001b[0m\n\u001b[1;32m   1718\u001b[0m     raise ValueError(\n\u001b[0;32m-> 1719\u001b[0;31m         \u001b[0;34m\"Shape of passed values is {0}, indices imply {1}\"\u001b[0m\u001b[0;34m.\u001b[0m\u001b[0mformat\u001b[0m\u001b[0;34m(\u001b[0m\u001b[0mpassed\u001b[0m\u001b[0;34m,\u001b[0m \u001b[0mimplied\u001b[0m\u001b[0;34m)\u001b[0m\u001b[0;34m\u001b[0m\u001b[0;34m\u001b[0m\u001b[0m\n\u001b[0m\u001b[1;32m   1720\u001b[0m     )\n\u001b[1;32m   1721\u001b[0m \u001b[0;34m\u001b[0m\u001b[0m\n",
      "\u001b[0;31mValueError\u001b[0m: Shape of passed values is (3, 1), indices imply (1, 1)"
     ]
    }
   ],
   "source": [
    "pd.DataFrame(['one','two','three'],['test1'])"
   ]
  },
  {
   "cell_type": "markdown",
   "metadata": {},
   "source": [
    "If we look to the bottom, we can see that this is caused by an improper shape of the arrays we have passed into the `DataFrame` function.  We can trace our way back up through the code to see all the functions which were called in order to get to this error.  In this case, there were four called (from the top), `DataFrame, _init_ndarray, create_block_manager_from_blocks, construction_error`.  \n",
    "\n",
    "Learning how to read Tracebacks and especially to figure out why simple bits of code are failing is an important part to becoming a good Python programmer."
   ]
  },
  {
   "cell_type": "markdown",
   "metadata": {},
   "source": [
    "### Execptions Exercise\n",
    "\n",
    "Run the following bits of code in new cells and determine the error, fix the errors in a sensible way.\n",
    "\n",
    "\n",
    "```python\n",
    "# Example 1\n",
    "float([1])\n",
    "\n",
    "# Example 2\n",
    "a = []\n",
    "a[1]\n",
    "\n",
    "# Example 3\n",
    "pd.DataFrame(['one','two','three'],['test'])\n",
    "```"
   ]
  },
  {
   "cell_type": "markdown",
   "metadata": {},
   "source": [
    "## More About Functions\n",
    "\n",
    "Notice that the `example_a` and `example_b` had no input, but other functions like `test_high_score` had multiple variables as input.  Remember that a function argument is just a placeholder for a name and will be bound to whatever is passed into the function.  For example:"
   ]
  },
  {
   "cell_type": "code",
   "execution_count": 12,
   "metadata": {},
   "outputs": [
    {
     "name": "stdout",
     "output_type": "stream",
     "text": [
      "inside print_this:  2\n",
      "a =  5\n"
     ]
    }
   ],
   "source": [
    "def print_this(a):\n",
    "    print('inside print_this: ', a)\n",
    "\n",
    "a = 5\n",
    "print_this(2)\n",
    "print('a = ', a)"
   ]
  },
  {
   "cell_type": "markdown",
   "metadata": {},
   "source": [
    "Notice that even though `print_this` was printing the variable `a` inside the function and there was a variable `a` defined outside of the function, the `print` function inside `print_this` still printed what was passed in.  However, we could also do:"
   ]
  },
  {
   "cell_type": "code",
   "execution_count": 13,
   "metadata": {},
   "outputs": [
    {
     "name": "stdout",
     "output_type": "stream",
     "text": [
      "inside print_it:  5\n",
      "a =  5\n"
     ]
    }
   ],
   "source": [
    "def print_it():\n",
    "    print('inside print_it: ', a)\n",
    "    \n",
    "a = 5\n",
    "print_it()\n",
    "print('a = ', a)"
   ]
  },
  {
   "cell_type": "markdown",
   "metadata": {},
   "source": [
    "Here there is no variable passed into the function so Python uses the variable from the outer scope.  Be careful with this second paradigm as it can be dangerous. The danger lies in the fact that the output of the function depends upon the overall state of the program (namely the value of `a`) as opposed to `print_this` which depends only on the input of the function.  Functions like `print_this` are much easier to reason about, test, and use, they should be preferred in many contexts.\n",
    "\n",
    "That said, there is a very powerful technique called `function closure` which we can make use of this ability.  Lets say we want a function which will raise a number to some exponent, but we don't know which exponent ahead of runtime.  We can define such a function like this."
   ]
  },
  {
   "cell_type": "code",
   "execution_count": 15,
   "metadata": {},
   "outputs": [],
   "source": [
    "def some_exponent(exponent):\n",
    "    def func(x):\n",
    "        return x**exponent\n",
    "    return func"
   ]
  },
  {
   "cell_type": "code",
   "execution_count": 16,
   "metadata": {},
   "outputs": [
    {
     "data": {
      "text/plain": [
       "(36, 216)"
      ]
     },
     "execution_count": 16,
     "metadata": {},
     "output_type": "execute_result"
    }
   ],
   "source": [
    "some_exponent(2)(6), some_exponent(3)(6)"
   ]
  },
  {
   "cell_type": "markdown",
   "metadata": {},
   "source": [
    "Now that we understand how normal arguments work, let's look at a few conveniences Python provides for making functions easier to create.  The first is ___default arguments___.  Let's suppose we have a function which had a bunch of arguments, but most of them had sane defaults, for example:"
   ]
  },
  {
   "cell_type": "code",
   "execution_count": 17,
   "metadata": {},
   "outputs": [
    {
     "name": "stdout",
     "output_type": "stream",
     "text": [
      "I need to:\n",
      "  watch_tv\n",
      "  read\n",
      "  eat\n",
      "  sleep\n"
     ]
    }
   ],
   "source": [
    "def print_todo(watch_tv, read, eat, sleep):\n",
    "    print('I need to:')\n",
    "    if watch_tv:\n",
    "        print('  watch_tv')\n",
    "    if read:\n",
    "        print('  read')\n",
    "    if eat:\n",
    "        print('  eat')\n",
    "    if sleep:\n",
    "        print('  sleep')\n",
    "print_todo(True, True, True, True)"
   ]
  },
  {
   "cell_type": "markdown",
   "metadata": {},
   "source": [
    "I know that I almost always need to eat and sleep, so I can use a default argument for these instead.  This means I don't need to define the value of `eat` and `sleep` unless they are different than the default."
   ]
  },
  {
   "cell_type": "code",
   "execution_count": 11,
   "metadata": {},
   "outputs": [
    {
     "name": "stdout",
     "output_type": "stream",
     "text": [
      "I need to:\n",
      "  watch_tv\n",
      "  read\n",
      "  sleep\n"
     ]
    }
   ],
   "source": [
    "def print_todo_default(watch_tv, read, eat=True, sleep=True):\n",
    "    print('I need to:')\n",
    "    if watch_tv:\n",
    "        print('  watch_tv')\n",
    "    if read:\n",
    "        print('  read')\n",
    "    if eat:\n",
    "        print('  eat')\n",
    "    if sleep:\n",
    "        print('  sleep')\n",
    "print_todo_default(True, True,False)"
   ]
  },
  {
   "cell_type": "markdown",
   "metadata": {},
   "source": [
    "These default arguments can allow us to create complex function with many inputs while also maintaining ease of use by setting sane defaults. \n",
    "\n",
    "Another thing we might want to do is take a variable list of arguments, lets write a similar `todo` function as before, but this time we will allow it to pass in any number of arguments.  Here we will make use of the `*args` syntax.  This `*` tells python to gather the rest of the arguments into the tuple `args`."
   ]
  },
  {
   "cell_type": "code",
   "execution_count": 13,
   "metadata": {},
   "outputs": [
    {
     "name": "stdout",
     "output_type": "stream",
     "text": [
      "I need to:\n",
      "  watch_tv\n",
      "  read\n",
      "  eat\n",
      "  dance\n"
     ]
    }
   ],
   "source": [
    "def print_todo_args(*args):\n",
    "    print('I need to:')\n",
    "    for arg in args:\n",
    "        print('  ' + arg)\n",
    "print_todo_args('watch_tv', 'read', 'eat', 'dance')"
   ]
  },
  {
   "cell_type": "markdown",
   "metadata": {},
   "source": [
    "This sort of syntax can be very useful in large programs where abstract functions may all a variety of different functions with different arguments."
   ]
  },
  {
   "cell_type": "markdown",
   "metadata": {},
   "source": [
    "## More Data Structures Operations\n",
    "\n",
    "### Switching data structures\n",
    "Each of the containers we've introduced has different properties and characteristics. Sometimes we will want to change one data structure into another to take advantage of these differences. We've already seen some methods for transforming a `dict` into a `list` of `tuple`s or vice versa. We can easily transform between `list`, `tuple`, and `set`."
   ]
  },
  {
   "cell_type": "code",
   "execution_count": 26,
   "metadata": {},
   "outputs": [
    {
     "name": "stdout",
     "output_type": "stream",
     "text": [
      "('a', 'b', 23, 10, True, 'a', 10)\n",
      "{True, 10, 'a', 'b', 23}\n",
      "[True, 10, 'a', 'b', 23]\n"
     ]
    }
   ],
   "source": [
    "example_list = ['a', 'b', 23, 10, True, 'a', 10]\n",
    "example_tuple = tuple(example_list)\n",
    "example_set = set(example_tuple)\n",
    "example_list = list(example_set)\n",
    "\n",
    "print(example_tuple)\n",
    "print(example_set)\n",
    "print(example_list) # note we lost the duplicates because of set"
   ]
  },
  {
   "cell_type": "markdown",
   "metadata": {},
   "source": [
    "### Search\n",
    "\n",
    "We discussed the idea of searching for data in our data structures when describing what makes `set` (and `dict`) so special. What does search look like in Python? We search for data using the keyword `in`."
   ]
  },
  {
   "cell_type": "code",
   "execution_count": 27,
   "metadata": {},
   "outputs": [
    {
     "name": "stdout",
     "output_type": "stream",
     "text": [
      "[True, 10, 'a', 'b', 23]\n",
      "True\n",
      "False\n"
     ]
    }
   ],
   "source": [
    "print(example_list)\n",
    "print('a' in example_list)\n",
    "print('c' in example_list)"
   ]
  },
  {
   "cell_type": "markdown",
   "metadata": {},
   "source": [
    "When dealing with a `dict`, we can search keys, but not values."
   ]
  },
  {
   "cell_type": "code",
   "execution_count": 2,
   "metadata": {},
   "outputs": [
    {
     "data": {
      "text/plain": [
       "{'name': 'Arthur',\n",
       " 'age': 32,\n",
       " 'height': 177.5,\n",
       " 'weight': 68.5,\n",
       " 'hair': 'black',\n",
       " 'eyes': 'brown',\n",
       " 'has_dog': False,\n",
       " 'married': True,\n",
       " 'level': 'H16-S35'}"
      ]
     },
     "execution_count": 2,
     "metadata": {},
     "output_type": "execute_result"
    }
   ],
   "source": [
    "value_list = ['Arthur', 32, 177.5, 68.5, 'black', 'brown', False, True, 'H16-S35']\n",
    "key_list = ['name', 'age', 'height', 'weight', 'hair', 'eyes', 'has_dog', 'married', 'level']    # problem with has dog?\n",
    "\n",
    "key_value_pairs = dict(zip(key_list, value_list))\n",
    "key_value_pairs"
   ]
  },
  {
   "cell_type": "code",
   "execution_count": 4,
   "metadata": {},
   "outputs": [
    {
     "name": "stdout",
     "output_type": "stream",
     "text": [
      "True\n",
      "True\n",
      "False\n"
     ]
    }
   ],
   "source": [
    "print('hair' in key_value_pairs)\n",
    "print('has_dog' in key_value_pairs)\n",
    "print('brown' in key_value_pairs)"
   ]
  },
  {
   "cell_type": "markdown",
   "metadata": {},
   "source": [
    "Searching for keys is important in dictionaries so that we don't accidentally try to retrieve a key-value pair that doesn't exist."
   ]
  },
  {
   "cell_type": "code",
   "execution_count": 30,
   "metadata": {},
   "outputs": [
    {
     "name": "stdout",
     "output_type": "stream",
     "text": [
      "Has dog: False\n",
      "None\n"
     ]
    }
   ],
   "source": [
    "if 'has_dog' in key_value_pairs:\n",
    "    print('Has dog: {}'.format(key_value_pairs['has_dog']))\n",
    "else:\n",
    "    print(None)\n",
    "\n",
    "if 'has cat' in key_value_pairs:\n",
    "    print('Has cat: {}'.format(key_value_pairs['has cat']))\n",
    "else:\n",
    "    print(None)"
   ]
  },
  {
   "cell_type": "code",
   "execution_count": 31,
   "metadata": {},
   "outputs": [
    {
     "name": "stdout",
     "output_type": "stream",
     "text": [
      "Has dog: False\n",
      "Has cat: None\n"
     ]
    }
   ],
   "source": [
    "# can use get method for same results\n",
    "print('Has dog: {}'.format(key_value_pairs.get('has_dog')))\n",
    "print('Has cat: {}'.format(key_value_pairs.get('has cat')))"
   ]
  },
  {
   "cell_type": "markdown",
   "metadata": {},
   "source": [
    "### Sorting\n",
    "\n",
    "Since a `tuple` is immutable, can we sort it? Or is that a mutation? What would it mean to sort a `set` or a `dict`, which has no order?\n",
    "\n",
    "Out of the data structures we've studied so far, only `list` has a `sort` method. However, Python also has a `sorted` function, which will create a sorted `list` out of other data structures. By default `sorted` applied to a `dict` makes a `list` of sorted keys. We must use the `items` method if we want our output to be key-value pairs."
   ]
  },
  {
   "cell_type": "code",
   "execution_count": 23,
   "metadata": {},
   "outputs": [
    {
     "name": "stdout",
     "output_type": "stream",
     "text": [
      "{'otu', 1, 2, 'ato', 3, False, 'abuou'}\n"
     ]
    }
   ],
   "source": [
    "example_tuple = True, 'otu', 1, 'abuou', 2, 'ato', 3, False\n",
    "example_set = {'otu', 1, 'abuou', True, 2, 'ato', 3, False}\n",
    "print(example_set)"
   ]
  },
  {
   "cell_type": "code",
   "execution_count": 2,
   "metadata": {},
   "outputs": [
    {
     "name": "stdout",
     "output_type": "stream",
     "text": [
      "(True, 'otu', 1, 'abuou', 2, 'ato', 3, False)\n",
      "['1', '2', '3', 'False', 'True', 'abuou', 'ato', 'otu']\n",
      "{'otu', 1, 2, 3, False, 'ato', 'abuou'}\n",
      "['1', '2', '3', 'False', 'abuou', 'ato', 'otu']\n"
     ]
    }
   ],
   "source": [
    "print(example_tuple)\n",
    "print(sorted(map(str, example_tuple)))\n",
    "print(example_set)      # why is the True seen as a duplicate value?\n",
    "print(sorted(map(str, example_set)))"
   ]
  },
  {
   "cell_type": "code",
   "execution_count": 30,
   "metadata": {},
   "outputs": [
    {
     "name": "stdout",
     "output_type": "stream",
     "text": [
      "{'otu', 1, 'abuou', False}\n"
     ]
    }
   ],
   "source": [
    "e = {'otu', 1, 'abuou', True, False}\n",
    "print( e)"
   ]
  },
  {
   "cell_type": "code",
   "execution_count": 3,
   "metadata": {},
   "outputs": [
    {
     "name": "stdout",
     "output_type": "stream",
     "text": [
      "{'name': 'Arthur', 'age': 32, 'height': 177.5, 'weight': 68.5, 'hair': 'black', 'eyes': 'brown', 'has_dog': False, 'married': True, 'level': 'H16-S35'}\n",
      "[('age', 32), ('eyes', 'brown'), ('hair', 'black'), ('has_dog', False), ('height', 177.5), ('level', 'H16-S35'), ('married', True), ('name', 'Arthur'), ('weight', 68.5)]\n",
      "['age', 'eyes', 'hair', 'has_dog', 'height', 'level', 'married', 'name', 'weight']\n"
     ]
    }
   ],
   "source": [
    "print(key_value_pairs)\n",
    "print(sorted(key_value_pairs.items()))\n",
    "print(sorted(key_value_pairs))"
   ]
  },
  {
   "cell_type": "markdown",
   "metadata": {},
   "source": [
    "### Iteration\n",
    "\n",
    "As we've seen in some examples already, it will often be useful to iterate through a data structure, whether to execute some task based on the information contained or to transform or analyze a data set. We will most often use `for` loops to iterate over data structures. With a `list`, `tuple`, or `set` the elements of the container are returned one after another. With a `dict` things are a little more complicated: do we want to iterate over keys, values, or key-value pairs?"
   ]
  },
  {
   "cell_type": "code",
   "execution_count": 5,
   "metadata": {},
   "outputs": [
    {
     "name": "stdout",
     "output_type": "stream",
     "text": [
      "{'name': 'Arthur', 'age': 32, 'height': 177.5, 'weight': 68.5, 'hair': 'black', 'eyes': 'brown', 'has_dog': False, 'married': True, 'level': 'H16-S35'}\n"
     ]
    }
   ],
   "source": [
    "print(key_value_pairs)"
   ]
  },
  {
   "cell_type": "code",
   "execution_count": 6,
   "metadata": {},
   "outputs": [
    {
     "name": "stdout",
     "output_type": "stream",
     "text": [
      "name\n",
      "age\n",
      "height\n",
      "weight\n",
      "hair\n",
      "eyes\n",
      "has_dog\n",
      "married\n",
      "level\n"
     ]
    }
   ],
   "source": [
    "# by default we iterate over keys of a dict\n",
    "for k in key_value_pairs:\n",
    "    print(k)"
   ]
  },
  {
   "cell_type": "code",
   "execution_count": 8,
   "metadata": {},
   "outputs": [
    {
     "name": "stdout",
     "output_type": "stream",
     "text": [
      "Arthur\n",
      "32\n",
      "177.5\n",
      "68.5\n",
      "black\n",
      "brown\n",
      "False\n",
      "True\n",
      "H16-S35\n"
     ]
    }
   ],
   "source": [
    "# to iterate over values...\n",
    "for v in key_value_pairs.values():\n",
    "    print(v)"
   ]
  },
  {
   "cell_type": "code",
   "execution_count": 7,
   "metadata": {},
   "outputs": [
    {
     "name": "stdout",
     "output_type": "stream",
     "text": [
      "name: Arthur\n",
      "age: 32\n",
      "height: 177.5\n",
      "weight: 68.5\n",
      "hair: black\n",
      "eyes: brown\n",
      "has_dog: False\n",
      "married: True\n",
      "level: H16-S35\n"
     ]
    }
   ],
   "source": [
    "# or to iterate over key-value pairs...\n",
    "for k, v in key_value_pairs.items():\n",
    "    print('{}: {}'.format(k, v))             # note that we used tuple unpacking here"
   ]
  },
  {
   "cell_type": "markdown",
   "metadata": {},
   "source": [
    "### Comprehensions\n",
    "\n",
    "Python has a special syntax called ___comprehension___ for combining iteration with the creation of a data structure. It is essentially a `for` loop wrapped in the appropriate brackets for creating the data structure."
   ]
  },
  {
   "cell_type": "code",
   "execution_count": 4,
   "metadata": {},
   "outputs": [
    {
     "name": "stdout",
     "output_type": "stream",
     "text": [
      "[0, 1, 4, 9, 16, 25, 36, 49, 64, 81]\n",
      "{0: 0, 1: 1, 2: 4, 3: 9, 4: 16, 5: 25, 6: 36, 7: 49, 8: 64, 9: 81}\n"
     ]
    }
   ],
   "source": [
    "squares_list = [x**2 for x in range(10)]\n",
    "squares_dict = {x: x**2 for x in range(10)}\n",
    "\n",
    "print(squares_list)\n",
    "print(squares_dict)"
   ]
  },
  {
   "cell_type": "markdown",
   "metadata": {},
   "source": [
    "Comprehensions are very useful for doing simple transformations on data structures. For example, maybe we are writing a function that will analyze `key_value_pairs`. It might be useful to have a `dict` of the data types of the values in `key_value_pairs` so that we know what to expect as input."
   ]
  },
  {
   "cell_type": "code",
   "execution_count": 5,
   "metadata": {},
   "outputs": [
    {
     "name": "stdout",
     "output_type": "stream",
     "text": [
      "{'name': <class 'str'>, 'age': <class 'int'>, 'height': <class 'float'>, 'weight': <class 'float'>, 'hair': <class 'str'>, 'eyes': <class 'str'>, 'has_dog': <class 'bool'>, 'married': <class 'bool'>, 'level': <class 'str'>}\n"
     ]
    }
   ],
   "source": [
    "key_value_pairs_dtypes = {k: type(v) for k, v in key_value_pairs.items()}\n",
    "print(key_value_pairs_dtypes)"
   ]
  },
  {
   "cell_type": "markdown",
   "metadata": {},
   "source": [
    "Comprehensions also make code more readable. Compare the `for` loop implementation of `square_lut` with the comprehension."
   ]
  },
  {
   "cell_type": "code",
   "execution_count": 6,
   "metadata": {},
   "outputs": [
    {
     "name": "stdout",
     "output_type": "stream",
     "text": [
      "{0: 0, 1: 1, 2: 4, 3: 9, 4: 16, 5: 25, 6: 36, 7: 49, 8: 64, 9: 81}\n",
      "{0: 0, 1: 1, 2: 4, 3: 9, 4: 16, 5: 25, 6: 36, 7: 49, 8: 64, 9: 81}\n"
     ]
    }
   ],
   "source": [
    "squares_dict = {}\n",
    "for x in range(10):\n",
    "    squares_dict[x] = x**2\n",
    "\n",
    "print(squares_dict)\n",
    "\n",
    "squares_dict = {x: x**2 for x in range(10)}\n",
    "\n",
    "print(squares_dict)"
   ]
  },
  {
   "cell_type": "code",
   "execution_count": 7,
   "metadata": {},
   "outputs": [
    {
     "name": "stdout",
     "output_type": "stream",
     "text": [
      "[0, 1, 2, 3, 4, 5, 6, 7, 8, 9, 10]\n"
     ]
    }
   ],
   "source": [
    "listhouse = [x for x in range(11)]\n",
    "print(listhouse)                              "
   ]
  },
  {
   "cell_type": "markdown",
   "metadata": {},
   "source": [
    "## Collections\n",
    "As previously mentioned, the Python standard library has a `collections` module which contains a variety of extremely useful containers, especially for implementing algorithms as they tend to be quite optimized.  They are slightly more specialized than the general Python containers.\n",
    "\n",
    "The containers are:\n",
    "\n",
    "- `namedtuple`\n",
    "- `deque`\n",
    "- `Counter`\n",
    "- `OrderedDict`\n",
    "- `defaultdict`"
   ]
  },
  {
   "cell_type": "code",
   "execution_count": null,
   "metadata": {},
   "outputs": [],
   "source": []
  },
  {
   "cell_type": "markdown",
   "metadata": {},
   "source": [
    "*Copyright &copy; 2019 MICTU, UNIZIK.*\n",
    "*Adapted for use in MICTU, UNIZIK Python Classes by [Arthur Ezenwanne](https://github.com/ArthurEzenwanne). All rights freely un-reserved.*"
   ]
  },
  {
   "cell_type": "code",
   "execution_count": null,
   "metadata": {},
   "outputs": [],
   "source": []
  }
 ],
 "metadata": {
  "kernelspec": {
   "display_name": "Python 3",
   "language": "python",
   "name": "python3"
  },
  "language_info": {
   "codemirror_mode": {
    "name": "ipython",
    "version": 3
   },
   "file_extension": ".py",
   "mimetype": "text/x-python",
   "name": "python",
   "nbconvert_exporter": "python",
   "pygments_lexer": "ipython3",
   "version": "3.7.4"
  },
  "nbclean": true
 },
 "nbformat": 4,
 "nbformat_minor": 1
}
