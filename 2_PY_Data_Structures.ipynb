{
 "cells": [
  {
   "cell_type": "markdown",
   "metadata": {},
   "source": [
    "# Python data types and structures\n",
    "\n",
    "In the [Intro notebook](1_PY_Intro.ipynb), we introduced among other things the idea of variables, which we could use to store several different kinds of information. We could store text, numbers, or truth values. These different kinds of information correspond with different Python data `type`s.\n",
    "\n",
    "We also briefly introduced the Python `list`, which can be used to store a collection of data.\n",
    "\n",
    "Sometimes we will store information in individual variables, but often we will be working with several pieces of information that we want to group together because of their relationship or similarity. For example, if we were shopping for clothing, we could store each item we are going to buy in separate variables or we could store all of the items in one `list`."
   ]
  },
  {
   "cell_type": "code",
   "execution_count": 4,
   "metadata": {},
   "outputs": [],
   "source": [
    "clothing_a = 'shirts'\n",
    "clothing_b = 'sandals'\n",
    "clothing_c = 'shoes'\n",
    "clothing_d = 'singlets'\n",
    "clothing_e = 'boxers'\n",
    "\n",
    "clothing_list = ['shirts', 'sandals', 'shoes', 'singlets', 'boxers']"
   ]
  },
  {
   "cell_type": "markdown",
   "metadata": {},
   "source": [
    "Which of these approaches seems more useful to you? Let's write a short example function that \"buys\" each of the clothing we need."
   ]
  },
  {
   "cell_type": "code",
   "execution_count": 3,
   "metadata": {},
   "outputs": [],
   "source": [
    "def buy_clothing_individual(item_a, item_b, item_c, item_d, item_e):\n",
    "    print('Buying %s...' % item_a)\n",
    "    print('Buying %s...' % item_b)\n",
    "    print('Buying %s...' % item_c)\n",
    "    print('Buying %s...' % item_d)\n",
    "    print('Buying %s...' % item_e)\n",
    "\n",
    "def buy_clothing_list(items):\n",
    "    for item in items:\n",
    "        print('Buying %s...' % item)"
   ]
  },
  {
   "cell_type": "code",
   "execution_count": 5,
   "metadata": {},
   "outputs": [
    {
     "name": "stdout",
     "output_type": "stream",
     "text": [
      "Buying shirts...\n",
      "Buying sandals...\n",
      "Buying shoes...\n",
      "Buying singlets...\n",
      "Buying boxers...\n"
     ]
    }
   ],
   "source": [
    "buy_clothing_individual(clothing_a, clothing_b, clothing_c, clothing_d, clothing_e)        "
   ]
  },
  {
   "cell_type": "code",
   "execution_count": 6,
   "metadata": {},
   "outputs": [
    {
     "name": "stdout",
     "output_type": "stream",
     "text": [
      "Buying shirts...\n",
      "Buying sandals...\n",
      "Buying shoes...\n",
      "Buying singlets...\n",
      "Buying boxers...\n"
     ]
    }
   ],
   "source": [
    "buy_clothing_list(clothing_list)"
   ]
  },
  {
   "cell_type": "markdown",
   "metadata": {},
   "source": [
    "By using a `list`, we could use a `for` loop to write a much shorter function (in The Zen of Python, by Tim Peters, the 3rd commandment is: _\"Simple is better than complex\"_. You can run `import this` to see them). But even more important, `buy_clothing_list` is much more flexible. What if instead of buying five items, we wanted to buy more or less?"
   ]
  },
  {
   "cell_type": "code",
   "execution_count": 7,
   "metadata": {},
   "outputs": [
    {
     "ename": "TypeError",
     "evalue": "buy_clothing_individual() missing 2 required positional arguments: 'item_d' and 'item_e'",
     "output_type": "error",
     "traceback": [
      "\u001b[0;31m---------------------------------------------------------------------------\u001b[0m",
      "\u001b[0;31mTypeError\u001b[0m                                 Traceback (most recent call last)",
      "\u001b[0;32m<ipython-input-7-92ea4aa3a769>\u001b[0m in \u001b[0;36m<module>\u001b[0;34m\u001b[0m\n\u001b[1;32m      1\u001b[0m \u001b[0;31m# let's try to buy just three items\u001b[0m\u001b[0;34m\u001b[0m\u001b[0;34m\u001b[0m\u001b[0;34m\u001b[0m\u001b[0m\n\u001b[0;32m----> 2\u001b[0;31m \u001b[0mbuy_clothing_individual\u001b[0m\u001b[0;34m(\u001b[0m\u001b[0mclothing_a\u001b[0m\u001b[0;34m,\u001b[0m \u001b[0mclothing_b\u001b[0m\u001b[0;34m,\u001b[0m \u001b[0mclothing_c\u001b[0m\u001b[0;34m)\u001b[0m\u001b[0;34m\u001b[0m\u001b[0;34m\u001b[0m\u001b[0m\n\u001b[0m",
      "\u001b[0;31mTypeError\u001b[0m: buy_clothing_individual() missing 2 required positional arguments: 'item_d' and 'item_e'"
     ]
    }
   ],
   "source": [
    "# let's try to buy just three items\n",
    "buy_clothing_individual(clothing_a, clothing_b, clothing_c)        "
   ]
  },
  {
   "cell_type": "code",
   "execution_count": 8,
   "metadata": {},
   "outputs": [
    {
     "ename": "TypeError",
     "evalue": "buy_clothing_individual() takes 5 positional arguments but 6 were given",
     "output_type": "error",
     "traceback": [
      "\u001b[0;31m---------------------------------------------------------------------------\u001b[0m",
      "\u001b[0;31mTypeError\u001b[0m                                 Traceback (most recent call last)",
      "\u001b[0;32m<ipython-input-8-6a519ecb79d2>\u001b[0m in \u001b[0;36m<module>\u001b[0;34m\u001b[0m\n\u001b[1;32m      2\u001b[0m \u001b[0mclothing_f\u001b[0m \u001b[0;34m=\u001b[0m \u001b[0;34m'trousers'\u001b[0m\u001b[0;34m\u001b[0m\u001b[0;34m\u001b[0m\u001b[0m\n\u001b[1;32m      3\u001b[0m \u001b[0;34m\u001b[0m\u001b[0m\n\u001b[0;32m----> 4\u001b[0;31m \u001b[0mbuy_clothing_individual\u001b[0m\u001b[0;34m(\u001b[0m\u001b[0mclothing_a\u001b[0m\u001b[0;34m,\u001b[0m \u001b[0mclothing_b\u001b[0m\u001b[0;34m,\u001b[0m \u001b[0mclothing_c\u001b[0m\u001b[0;34m,\u001b[0m \u001b[0mclothing_d\u001b[0m\u001b[0;34m,\u001b[0m \u001b[0mclothing_e\u001b[0m\u001b[0;34m,\u001b[0m \u001b[0mclothing_f\u001b[0m\u001b[0;34m)\u001b[0m\u001b[0;34m\u001b[0m\u001b[0;34m\u001b[0m\u001b[0m\n\u001b[0m",
      "\u001b[0;31mTypeError\u001b[0m: buy_clothing_individual() takes 5 positional arguments but 6 were given"
     ]
    }
   ],
   "source": [
    "# or a sixth item\n",
    "clothing_f = 'trousers'\n",
    "\n",
    "buy_clothing_individual(clothing_a, clothing_b, clothing_c, clothing_d, clothing_e, clothing_f)        "
   ]
  },
  {
   "cell_type": "markdown",
   "metadata": {},
   "source": [
    "We encounter an error when we try to use `buy_clothing_individual` because it is expecting \"exactly 5 arguments.\" We don't run into that problem with `buy_clothing_list`, because our `for` loop can work with lists of any length."
   ]
  },
  {
   "cell_type": "code",
   "execution_count": 9,
   "metadata": {},
   "outputs": [
    {
     "name": "stdout",
     "output_type": "stream",
     "text": [
      "Buying shoes...\n",
      "Buying singlets...\n",
      "Buying boxers...\n"
     ]
    }
   ],
   "source": [
    "short_clothing_list = ['shoes', 'singlets', 'boxers']\n",
    "buy_clothing_list(short_clothing_list)"
   ]
  },
  {
   "cell_type": "markdown",
   "metadata": {},
   "source": [
    "### Data Structure Intro Exercises\n",
    "\n",
    "Do a corresponding `long_clothing_list` and pass it to the `buy_clothing_list` function."
   ]
  },
  {
   "cell_type": "markdown",
   "metadata": {},
   "source": [
    "## `lists` of Power\n",
    "\n",
    "Python has a number of compound data types, used to group together other values. The ***most versatile*** is the `list`, which can be written as a _list of comma-separated values (items) between square brackets_ `[]`. Lists _might_ contain items of *different types*, but usually the items all have the same type.\n",
    "\n",
    ">Like strings (and all other built-in sequence types), lists can be indexed and sliced"
   ]
  },
  {
   "cell_type": "code",
   "execution_count": 2,
   "metadata": {},
   "outputs": [
    {
     "data": {
      "text/plain": [
       "['Ebuka',\n",
       " 'Ekene',\n",
       " 'James',\n",
       " 'Chukwdi',\n",
       " 'Ralu',\n",
       " 'Bosah',\n",
       " 'Dogo',\n",
       " 'Olumide',\n",
       " 'Emeka',\n",
       " 'Tochukwu',\n",
       " 'Nnamdi']"
      ]
     },
     "execution_count": 2,
     "metadata": {},
     "output_type": "execute_result"
    }
   ],
   "source": [
    "names = ['Ebuka', 'Ekene', 'James', 'Chukwdi', 'Ralu', 'Bosah', 'Dogo', 'Olumide', 'Emeka', 'Tochukwu', 'Nnamdi']\n",
    "# this is just a list of strings\n",
    "names"
   ]
  },
  {
   "cell_type": "code",
   "execution_count": 11,
   "metadata": {},
   "outputs": [
    {
     "data": {
      "text/plain": [
       "'Ralu'"
      ]
     },
     "execution_count": 11,
     "metadata": {},
     "output_type": "execute_result"
    }
   ],
   "source": [
    "names[4]   # indexing returns the item"
   ]
  },
  {
   "cell_type": "code",
   "execution_count": 12,
   "metadata": {},
   "outputs": [
    {
     "data": {
      "text/plain": [
       "['James', 'Chukwdi', 'Ralu', 'Bosah']"
      ]
     },
     "execution_count": 12,
     "metadata": {},
     "output_type": "execute_result"
    }
   ],
   "source": [
    "names[2:6]       # slicing returns a new list"
   ]
  },
  {
   "cell_type": "markdown",
   "metadata": {},
   "source": [
    "Lists also support operations like concatenation just like strings. However, unlike strings, which are ***immutable***, `list`s are a ***mutable*** type, i.e. it is possible to change their content. "
   ]
  },
  {
   "cell_type": "code",
   "execution_count": 13,
   "metadata": {},
   "outputs": [
    {
     "data": {
      "text/plain": [
       "['Ebuka',\n",
       " 'Ekene',\n",
       " 'James',\n",
       " 'Chukwdi',\n",
       " 'Ralu',\n",
       " 'Bosah',\n",
       " 'Dogo',\n",
       " 'Olumide',\n",
       " 'Emeka',\n",
       " 'Tochukwu',\n",
       " 'Nnamdi',\n",
       " 'Arinze',\n",
       " 'Arthur']"
      ]
     },
     "execution_count": 13,
     "metadata": {},
     "output_type": "execute_result"
    }
   ],
   "source": [
    "names += ['Arinze', 'Arthur']\n",
    "names"
   ]
  },
  {
   "cell_type": "markdown",
   "metadata": {},
   "source": [
    "### List Methods\n",
    "\n",
    "There are about 11 direct list methods. However we will only consider few of them. Say 3. Kindly look up on the others."
   ]
  },
  {
   "cell_type": "code",
   "execution_count": 12,
   "metadata": {},
   "outputs": [
    {
     "data": {
      "text/plain": [
       "['Ebuka',\n",
       " 'Ekene',\n",
       " 'James',\n",
       " 'Chukwdi',\n",
       " 'Ralu',\n",
       " 'Bosah',\n",
       " 'Dogo',\n",
       " 'Olumide',\n",
       " 'Emeka',\n",
       " 'Tochukwu',\n",
       " 'Nnamdi',\n",
       " 'Ben']"
      ]
     },
     "execution_count": 12,
     "metadata": {},
     "output_type": "execute_result"
    }
   ],
   "source": [
    "names.append('Ben')    # .append is used to add new items to the list, takes only 1 argument\n",
    "names"
   ]
  },
  {
   "cell_type": "code",
   "execution_count": 15,
   "metadata": {},
   "outputs": [
    {
     "ename": "TypeError",
     "evalue": "append() takes exactly one argument (2 given)",
     "output_type": "error",
     "traceback": [
      "\u001b[0;31m---------------------------------------------------------------------------\u001b[0m",
      "\u001b[0;31mTypeError\u001b[0m                                 Traceback (most recent call last)",
      "\u001b[0;32m<ipython-input-15-71fa9a16ff68>\u001b[0m in \u001b[0;36m<module>\u001b[0;34m\u001b[0m\n\u001b[0;32m----> 1\u001b[0;31m \u001b[0mnames\u001b[0m\u001b[0;34m.\u001b[0m\u001b[0mappend\u001b[0m\u001b[0;34m(\u001b[0m\u001b[0;34m'Ben'\u001b[0m\u001b[0;34m,\u001b[0m \u001b[0;34m'Chinedu'\u001b[0m\u001b[0;34m)\u001b[0m    \u001b[0;31m# .append takes only 1 argument\u001b[0m\u001b[0;34m\u001b[0m\u001b[0;34m\u001b[0m\u001b[0m\n\u001b[0m",
      "\u001b[0;31mTypeError\u001b[0m: append() takes exactly one argument (2 given)"
     ]
    }
   ],
   "source": [
    "names.append('Ben', 'Chinedu')    # .append takes only 1 argument"
   ]
  },
  {
   "cell_type": "code",
   "execution_count": 16,
   "metadata": {},
   "outputs": [
    {
     "data": {
      "text/plain": [
       "['Ebuka',\n",
       " 'Ekene',\n",
       " 'James',\n",
       " 'Chukwdi',\n",
       " 'Ralu',\n",
       " 'Bosah',\n",
       " 'Dogo',\n",
       " 'Olumide',\n",
       " 'Emeka',\n",
       " 'Tochukwu',\n",
       " 'Nnamdi',\n",
       " 'Arinze',\n",
       " 'Arthur']"
      ]
     },
     "execution_count": 16,
     "metadata": {},
     "output_type": "execute_result"
    }
   ],
   "source": [
    "# .pop is used to remove (usually) d last item in a list, usually takes no argument.\n",
    "names.pop()    \n",
    "names"
   ]
  },
  {
   "cell_type": "code",
   "execution_count": 5,
   "metadata": {},
   "outputs": [
    {
     "data": {
      "text/plain": [
       "['Ebuka',\n",
       " 'Ekene',\n",
       " 'James',\n",
       " 'Chukwdi',\n",
       " 'Bosah',\n",
       " 'Olumide',\n",
       " 'Emeka',\n",
       " 'Tochukwu',\n",
       " 'Nnamdi',\n",
       " 'Ben',\n",
       " 'Chinedu']"
      ]
     },
     "execution_count": 5,
     "metadata": {},
     "output_type": "execute_result"
    }
   ],
   "source": [
    "# however, you could supply a negative based index to argument to remeve that value\n",
    "names.pop(-8)    \n",
    "names"
   ]
  },
  {
   "cell_type": "code",
   "execution_count": 7,
   "metadata": {},
   "outputs": [
    {
     "data": {
      "text/plain": [
       "['Ebuka',\n",
       " 'Ekene',\n",
       " 'James',\n",
       " 'Chukwdi',\n",
       " 'Bosah',\n",
       " 'Olumide',\n",
       " 'Emeka',\n",
       " 'Tochukwu',\n",
       " 'Nnamdi',\n",
       " 'Chinedu']"
      ]
     },
     "execution_count": 7,
     "metadata": {},
     "output_type": "execute_result"
    }
   ],
   "source": [
    "names.remove('Ben')     # remove first occurrence of value, usually takes one argument\n",
    "names"
   ]
  },
  {
   "cell_type": "code",
   "execution_count": 21,
   "metadata": {},
   "outputs": [
    {
     "ename": "TypeError",
     "evalue": "remove() takes exactly one argument (2 given)",
     "output_type": "error",
     "traceback": [
      "\u001b[0;31m---------------------------------------------------------------------------\u001b[0m",
      "\u001b[0;31mTypeError\u001b[0m                                 Traceback (most recent call last)",
      "\u001b[0;32m<ipython-input-21-542c8c80f65e>\u001b[0m in \u001b[0;36m<module>\u001b[0;34m\u001b[0m\n\u001b[0;32m----> 1\u001b[0;31m \u001b[0mnames\u001b[0m\u001b[0;34m.\u001b[0m\u001b[0mremove\u001b[0m\u001b[0;34m(\u001b[0m\u001b[0;34m'Nnamdi'\u001b[0m\u001b[0;34m,\u001b[0m \u001b[0;34m'Tochukwu'\u001b[0m\u001b[0;34m)\u001b[0m     \u001b[0;31m# remove first occurrence of value, usually takes one argument\u001b[0m\u001b[0;34m\u001b[0m\u001b[0;34m\u001b[0m\u001b[0m\n\u001b[0m\u001b[1;32m      2\u001b[0m \u001b[0mnames\u001b[0m\u001b[0;34m\u001b[0m\u001b[0;34m\u001b[0m\u001b[0m\n",
      "\u001b[0;31mTypeError\u001b[0m: remove() takes exactly one argument (2 given)"
     ]
    }
   ],
   "source": [
    "names.remove('Nnamdi', 'Tochukwu')     # remove first occurrence of value, usually takes one argument\n",
    "names"
   ]
  },
  {
   "cell_type": "markdown",
   "metadata": {},
   "source": [
    "### List Exercises 1\n",
    "\n",
    "Find out what the following list method does:\n",
    "\n",
    "1. `clear`\n",
    "2. `copy`\n",
    "3. `count`\n",
    "4. `extend`\n",
    "5. `index`\n",
    "6. `insert`\n",
    "7. `reverse`\n",
    "8. `sort`\n",
    "\n",
    "In Jupyter env you could run `names.clear?` to get a doc on the command."
   ]
  },
  {
   "cell_type": "markdown",
   "metadata": {},
   "source": [
    "So far we've worked with `list`s of strings, but we're not limited to only that data type. A list can accept any datatype as an input. It is highly versertile!"
   ]
  },
  {
   "cell_type": "code",
   "execution_count": 22,
   "metadata": {},
   "outputs": [
    {
     "name": "stdout",
     "output_type": "stream",
     "text": [
      "[2, 6, 3049, 18, 37]\n",
      "[3.7, 8.2, 178.245, 63.1]\n",
      "[26, False, 'some words', 1.264, 0.1875]\n"
     ]
    }
   ],
   "source": [
    "int_list = [2, 6, 3049, 18, 37]                          # list of ints\n",
    "float_list = [3.7, 8.2, 178.245, 63.1]                   # list of floats\n",
    "mixed_list = [26, False, 'some words', 1.264, 3/16]      # weird list of mixed stuff\n",
    "\n",
    "print(int_list)\n",
    "print(float_list)\n",
    "print(mixed_list)"
   ]
  },
  {
   "cell_type": "markdown",
   "metadata": {},
   "source": [
    "We can store any `type` of data in a `list`. We can even put a `list` inside of a `list`. There are very few restrictions on how we structure a `list` or what we put in it. This can lead to a very complicated nested structure."
   ]
  },
  {
   "cell_type": "code",
   "execution_count": null,
   "metadata": {},
   "outputs": [],
   "source": [
    "list_of_lists = [['a', 'list', 'of', 'words'], [1, 5, 209], [True, True, False]]\n",
    "print(list_of_lists)"
   ]
  },
  {
   "cell_type": "code",
   "execution_count": 23,
   "metadata": {},
   "outputs": [
    {
     "name": "stdout",
     "output_type": "stream",
     "text": [
      "[[23, 73, 50], 'some words', 12.308, [[False, True], 'more words', False], {'this': 'is', 'not': 'ok', 'noted': True}]\n"
     ]
    }
   ],
   "source": [
    "#never create stuff like this\n",
    "confusing_list = [[23, 73, 50], 'some words', 12.308, [[False, True], 'more words', False], \n",
    "                  {'this': 'is', 'not': 'ok', 'noted': True}]\n",
    "print(confusing_list)"
   ]
  },
  {
   "cell_type": "code",
   "execution_count": 24,
   "metadata": {},
   "outputs": [
    {
     "name": "stdout",
     "output_type": "stream",
     "text": [
      "<class 'list'>\n",
      "<class 'str'>\n",
      "<class 'float'>\n",
      "<class 'list'>\n",
      "<class 'dict'>\n",
      "<class 'list'>\n",
      "<class 'str'>\n",
      "<class 'bool'>\n"
     ]
    }
   ],
   "source": [
    "print(type(confusing_list[0]))\n",
    "print(type(confusing_list[1]))\n",
    "print(type(confusing_list[2]))\n",
    "print(type(confusing_list[3]))\n",
    "print(type(confusing_list[4]))\n",
    "\n",
    "print(type(confusing_list[3][0]))\n",
    "print(type(confusing_list[3][1]))\n",
    "print(type(confusing_list[3][2]))"
   ]
  },
  {
   "cell_type": "markdown",
   "metadata": {},
   "source": [
    "We describe the Python `list` as _heterogeneous_ because it can hold a collection of mixed objects. This is one of the major defining properties of the Python `list`.\n",
    "\n",
    "You may have also noticed that when we put data into a `list` in particular order, it stays in that order when we `print` or use the `list` in a `for` loop. Because `list` preserves order, we say it is _ordered_. We can use this property to retrieve particular items from a `list` based on their position (or **index**) in the list."
   ]
  },
  {
   "cell_type": "markdown",
   "metadata": {},
   "source": [
    "### List Exercises 2\n",
    "\n",
    "1. In your own words, what are some of the properties of a Python `list`?\n",
    "2. Make a list of 10 elements and select only the last 2 elements\n",
    "3. Take that same list of 10 elements and select every other element starting with the very first element.\n",
    "4. Select every other element starting with the second element."
   ]
  },
  {
   "cell_type": "markdown",
   "metadata": {},
   "source": [
    "## `tuple` the Government?\n",
    "\n",
    "Another standard sequence data type is the `tuple`.\n",
    "\n",
    ">Like strings (and all other built-in sequence types), `tuple`s can be indexed and sliced.\n",
    "\n",
    "A `tuple` consists of a number of values separated by commas, for instance."
   ]
  },
  {
   "cell_type": "code",
   "execution_count": 2,
   "metadata": {},
   "outputs": [
    {
     "data": {
      "text/plain": [
       "('otu', 1, 'abuou', 2, 'ato', 3, False)"
      ]
     },
     "execution_count": 2,
     "metadata": {},
     "output_type": "execute_result"
    }
   ],
   "source": [
    "t = 'otu', 1, 'abuou', 2, 'ato', 3, False\n",
    "t"
   ]
  },
  {
   "cell_type": "code",
   "execution_count": 26,
   "metadata": {},
   "outputs": [
    {
     "data": {
      "text/plain": [
       "'ato'"
      ]
     },
     "execution_count": 26,
     "metadata": {},
     "output_type": "execute_result"
    }
   ],
   "source": [
    "# Tuples may be indexed:\n",
    "t[4]"
   ]
  },
  {
   "cell_type": "code",
   "execution_count": 27,
   "metadata": {},
   "outputs": [
    {
     "data": {
      "text/plain": [
       "('ato', 3, False)"
      ]
     },
     "execution_count": 27,
     "metadata": {},
     "output_type": "execute_result"
    }
   ],
   "source": [
    "# Tuples may be sliced:\n",
    "t[4:]"
   ]
  },
  {
   "cell_type": "code",
   "execution_count": 28,
   "metadata": {},
   "outputs": [
    {
     "data": {
      "text/plain": [
       "(('otu', 1, 'abuou', 2, 'ato', 3, False),\n",
       " (1, 2, 3, 4, 5),\n",
       " ('otu', 1, 'abuou', 2, 'ato', 3, False))"
      ]
     },
     "execution_count": 28,
     "metadata": {},
     "output_type": "execute_result"
    }
   ],
   "source": [
    "# Tuples may be nested\n",
    "t_nested = t, (1, 2, 3, 4, 5), t\n",
    "t_nested"
   ]
  },
  {
   "cell_type": "code",
   "execution_count": 13,
   "metadata": {},
   "outputs": [
    {
     "ename": "TypeError",
     "evalue": "'tuple' object does not support item assignment",
     "output_type": "error",
     "traceback": [
      "\u001b[0;31m---------------------------------------------------------------------------\u001b[0m",
      "\u001b[0;31mTypeError\u001b[0m                                 Traceback (most recent call last)",
      "\u001b[0;32m<ipython-input-13-be4725a87ecc>\u001b[0m in \u001b[0;36m<module>\u001b[0;34m\u001b[0m\n\u001b[1;32m      1\u001b[0m \u001b[0;31m# Tuples are immutable\u001b[0m\u001b[0;34m\u001b[0m\u001b[0;34m\u001b[0m\u001b[0;34m\u001b[0m\u001b[0m\n\u001b[0;32m----> 2\u001b[0;31m \u001b[0mt\u001b[0m\u001b[0;34m[\u001b[0m\u001b[0;36m2\u001b[0m\u001b[0;34m]\u001b[0m \u001b[0;34m=\u001b[0m \u001b[0;34m'abou'\u001b[0m\u001b[0;34m\u001b[0m\u001b[0;34m\u001b[0m\u001b[0m\n\u001b[0m",
      "\u001b[0;31mTypeError\u001b[0m: 'tuple' object does not support item assignment"
     ]
    }
   ],
   "source": [
    "# Tuples are immutable\n",
    "t[2] = 'abou'"
   ]
  },
  {
   "cell_type": "code",
   "execution_count": 16,
   "metadata": {},
   "outputs": [
    {
     "ename": "TypeError",
     "evalue": "'tuple' object doesn't support item deletion",
     "output_type": "error",
     "traceback": [
      "\u001b[0;31m---------------------------------------------------------------------------\u001b[0m",
      "\u001b[0;31mTypeError\u001b[0m                                 Traceback (most recent call last)",
      "\u001b[0;32m<ipython-input-16-fe1e9d6a9086>\u001b[0m in \u001b[0;36m<module>\u001b[0;34m\u001b[0m\n\u001b[1;32m      1\u001b[0m \u001b[0;31m# deletion also fails\u001b[0m\u001b[0;34m\u001b[0m\u001b[0;34m\u001b[0m\u001b[0;34m\u001b[0m\u001b[0m\n\u001b[0;32m----> 2\u001b[0;31m \u001b[0;32mdel\u001b[0m \u001b[0mt\u001b[0m\u001b[0;34m[\u001b[0m\u001b[0;34m-\u001b[0m\u001b[0;36m1\u001b[0m\u001b[0;34m]\u001b[0m\u001b[0;34m\u001b[0m\u001b[0;34m\u001b[0m\u001b[0m\n\u001b[0m",
      "\u001b[0;31mTypeError\u001b[0m: 'tuple' object doesn't support item deletion"
     ]
    }
   ],
   "source": [
    "# deletion also fails\n",
    "del t[-1]"
   ]
  },
  {
   "cell_type": "markdown",
   "metadata": {},
   "source": [
    "Both the Python `list` and `tuple` are ordered and heterogeneous. However, unlike the `list`, the `tuple` is immutable, meaning it cannot be modified after it is created. Therefore, a `list` might be better for representing data that is expected to change over the course of a program, like a to-do list. A `tuple` might be better for representing data that is expected to be fixed, like the responses of an individual subject to a survey.\n",
    "\n",
    "#### Gotcha\n",
    "\n",
    "One common mistake people make with immutability and especially with tuples is to assume data structures inside the tuple are immutable because the tuple is immutable.  Lets see an example."
   ]
  },
  {
   "cell_type": "code",
   "execution_count": 1,
   "metadata": {},
   "outputs": [
    {
     "data": {
      "text/plain": [
       "([1, 2, 3], [4, 5, 6], [7, 8, 9])"
      ]
     },
     "execution_count": 1,
     "metadata": {},
     "output_type": "execute_result"
    }
   ],
   "source": [
    "# tuples can contain mutable objects\n",
    "t_mutated = [1, 2, 3], [4, 5, 6], [7, 8, 9]      # you can be explicit and use ()\n",
    "t_mutated"
   ]
  },
  {
   "cell_type": "code",
   "execution_count": 33,
   "metadata": {},
   "outputs": [
    {
     "name": "stdout",
     "output_type": "stream",
     "text": [
      "([1, 2, 3], [4, 5, 6], [7, 8, 0])\n",
      "([1, 2, 3], [4, 5, 6], [7, 8, 0])\n"
     ]
    }
   ],
   "source": [
    "# which could be mutated\n",
    "print(t_mutated)\n",
    "t_mutated[2][2] = 0\n",
    "print(t_mutated)"
   ]
  },
  {
   "cell_type": "code",
   "execution_count": 3,
   "metadata": {},
   "outputs": [
    {
     "ename": "TypeError",
     "evalue": "'tuple' object does not support item assignment",
     "output_type": "error",
     "traceback": [
      "\u001b[0;31m---------------------------------------------------------------------------\u001b[0m",
      "\u001b[0;31mTypeError\u001b[0m                                 Traceback (most recent call last)",
      "\u001b[0;32m<ipython-input-3-6bdf78a85e60>\u001b[0m in \u001b[0;36m<module>\u001b[0;34m\u001b[0m\n\u001b[0;32m----> 1\u001b[0;31m \u001b[0mt_mutated\u001b[0m\u001b[0;34m[\u001b[0m\u001b[0;36m2\u001b[0m\u001b[0;34m]\u001b[0m \u001b[0;34m=\u001b[0m \u001b[0;34m[\u001b[0m\u001b[0;36m2\u001b[0m\u001b[0;34m,\u001b[0m\u001b[0;36m4\u001b[0m\u001b[0;34m,\u001b[0m\u001b[0;36m5\u001b[0m\u001b[0;34m]\u001b[0m\u001b[0;34m\u001b[0m\u001b[0;34m\u001b[0m\u001b[0m\n\u001b[0m\u001b[1;32m      2\u001b[0m \u001b[0mprint\u001b[0m\u001b[0;34m(\u001b[0m\u001b[0mt_mutated\u001b[0m\u001b[0;34m)\u001b[0m\u001b[0;34m\u001b[0m\u001b[0;34m\u001b[0m\u001b[0m\n",
      "\u001b[0;31mTypeError\u001b[0m: 'tuple' object does not support item assignment"
     ]
    }
   ],
   "source": [
    "t_mutated[2] = [2,4,5]\n",
    "print(t_mutated)"
   ]
  },
  {
   "cell_type": "markdown",
   "metadata": {},
   "source": [
    "Even though the `tuple` itself is immutable, we cannot change the exact objects which it contains, those objects themselves can be mutated if they are mutable.  As with anywhere mutability shows up, this requires the programmer to be careful and not assume data has not been modified in some context."
   ]
  },
  {
   "cell_type": "markdown",
   "metadata": {},
   "source": [
    "### Tuple Exercises \n",
    "\n",
    "Create a `tuple` object containing:\n",
    "1. Exactly 0 item\n",
    "2. Exactly 1 item"
   ]
  },
  {
   "cell_type": "markdown",
   "metadata": {},
   "source": [
    "The statement `'otu', 1, 'abuou', 2, 'ato', 3, False` is an example of ***tuple packing***. The values 'otu', 1, 'abuou', 2, 'ato', 3, and False are packed together i\n",
    "n a `tuple`. The reverse operation, ***sequence unpacking*** is also possible.\n"
   ]
  },
  {
   "cell_type": "code",
   "execution_count": 3,
   "metadata": {},
   "outputs": [
    {
     "name": "stdout",
     "output_type": "stream",
     "text": [
      "otu <class 'str'>\n",
      "1 <class 'int'>\n",
      "abuou <class 'str'>\n"
     ]
    }
   ],
   "source": [
    "a, b, c, d, e, f, g = t\n",
    "print(a, type(a))\n",
    "print(b, type(b))\n",
    "print(c, type(c))\n",
    "\n",
    "# get the value and type of the others"
   ]
  },
  {
   "cell_type": "markdown",
   "metadata": {},
   "source": [
    "The implicit use of a `tuple` comes up most often when working with functions that return multiple outputs. For example, we might have a function that returns the first and last letter of a string."
   ]
  },
  {
   "cell_type": "code",
   "execution_count": 34,
   "metadata": {},
   "outputs": [
    {
     "name": "stdout",
     "output_type": "stream",
     "text": [
      "('h', '!')\n"
     ]
    }
   ],
   "source": [
    "def first_last(s):\n",
    "    return s[0], s[-1]\n",
    "\n",
    "chars = first_last('hello!')\n",
    "print(chars)"
   ]
  },
  {
   "cell_type": "code",
   "execution_count": 35,
   "metadata": {},
   "outputs": [
    {
     "name": "stdout",
     "output_type": "stream",
     "text": [
      "h\n",
      "!\n"
     ]
    }
   ],
   "source": [
    "first_char, last_char = first_last('hello!')\n",
    "\n",
    "print(first_char)\n",
    "print(last_char)"
   ]
  },
  {
   "cell_type": "markdown",
   "metadata": {},
   "source": [
    "## `set` to Make a Difference\n",
    "\n",
    "Python also includes a data type for `set`s. A `set` is an ***unordered*** _collection_ with ***no duplicate elements***. Basic uses include membership testing and eliminating duplicate entries. `set` objects also support mathematical operations like union, intersection, difference, and symmetric difference.\n",
    "\n",
    "`set`s can store heterogeneous data and it is mutable."
   ]
  },
  {
   "cell_type": "code",
   "execution_count": 4,
   "metadata": {},
   "outputs": [
    {
     "name": "stdout",
     "output_type": "stream",
     "text": [
      "{'apple', 'banana', 'orange', 'pear'}\n"
     ]
    }
   ],
   "source": [
    "basket = {'apple', 'orange', 'apple', 'pear', 'orange', 'banana'}      # use {} or set()\n",
    "print(basket)            # show that duplicates have been removed"
   ]
  },
  {
   "cell_type": "markdown",
   "metadata": {},
   "source": [
    "Even though we entered the data in one order, the `set` printed out in a different order. Even more significantly, we cannot index or slice a `set`. ___You may try to see the output___."
   ]
  },
  {
   "cell_type": "code",
   "execution_count": 19,
   "metadata": {},
   "outputs": [
    {
     "data": {
      "text/plain": [
       "True"
      ]
     },
     "execution_count": 19,
     "metadata": {},
     "output_type": "execute_result"
    }
   ],
   "source": [
    "'orange' in basket                 # fast membership testing"
   ]
  },
  {
   "cell_type": "code",
   "execution_count": 20,
   "metadata": {},
   "outputs": [
    {
     "data": {
      "text/plain": [
       "False"
      ]
     },
     "execution_count": 20,
     "metadata": {},
     "output_type": "execute_result"
    }
   ],
   "source": [
    "'wife' in basket"
   ]
  },
  {
   "cell_type": "code",
   "execution_count": 21,
   "metadata": {},
   "outputs": [],
   "source": [
    "a = set('abracadabra')\n",
    "b = set('alacazam')"
   ]
  },
  {
   "cell_type": "code",
   "execution_count": 22,
   "metadata": {},
   "outputs": [
    {
     "data": {
      "text/plain": [
       "{'a', 'b', 'c', 'd', 'r'}"
      ]
     },
     "execution_count": 22,
     "metadata": {},
     "output_type": "execute_result"
    }
   ],
   "source": [
    "a               # unique letters in a"
   ]
  },
  {
   "cell_type": "code",
   "execution_count": 23,
   "metadata": {},
   "outputs": [
    {
     "data": {
      "text/plain": [
       "{'a', 'c', 'l', 'm', 'z'}"
      ]
     },
     "execution_count": 23,
     "metadata": {},
     "output_type": "execute_result"
    }
   ],
   "source": [
    "b               # unique letters in b"
   ]
  },
  {
   "cell_type": "code",
   "execution_count": 24,
   "metadata": {},
   "outputs": [
    {
     "data": {
      "text/plain": [
       "{'b', 'd', 'r'}"
      ]
     },
     "execution_count": 24,
     "metadata": {},
     "output_type": "execute_result"
    }
   ],
   "source": [
    "a - b                              # letters in a but not in b"
   ]
  },
  {
   "cell_type": "code",
   "execution_count": 25,
   "metadata": {},
   "outputs": [
    {
     "data": {
      "text/plain": [
       "{'a', 'b', 'c', 'd', 'l', 'm', 'r', 'z'}"
      ]
     },
     "execution_count": 25,
     "metadata": {},
     "output_type": "execute_result"
    }
   ],
   "source": [
    "a | b                              # letters in a or b or both"
   ]
  },
  {
   "cell_type": "code",
   "execution_count": 26,
   "metadata": {},
   "outputs": [
    {
     "data": {
      "text/plain": [
       "{'a', 'c'}"
      ]
     },
     "execution_count": 26,
     "metadata": {},
     "output_type": "execute_result"
    }
   ],
   "source": [
    "a & b                              # letters in both a and b"
   ]
  },
  {
   "cell_type": "code",
   "execution_count": 27,
   "metadata": {},
   "outputs": [
    {
     "data": {
      "text/plain": [
       "{'b', 'd', 'l', 'm', 'r', 'z'}"
      ]
     },
     "execution_count": 27,
     "metadata": {},
     "output_type": "execute_result"
    }
   ],
   "source": [
    "a ^ b                              # letters in a or b but not both"
   ]
  },
  {
   "cell_type": "markdown",
   "metadata": {},
   "source": [
    "### Set Exercises \n",
    "\n",
    "1. Create a `set` containing 5 or more items\n",
    "2. Perform any 3 different actions on the set object using any of the `set` methods"
   ]
  },
  {
   "cell_type": "markdown",
   "metadata": {},
   "source": [
    "_**Why is `set` useful?**_\n",
    "\n",
    "It seems strange that we might want an _unordered_ data structure. We can't access or modify the data through indexing. How does giving up order benefit us? The answer is that it gives us flexibility about how the data is stored in memory, and that flexibility can make data retrieval much faster.\n",
    "\n",
    "This is also related to hashing technique."
   ]
  },
  {
   "cell_type": "markdown",
   "metadata": {},
   "source": [
    "Because searching for data is very simple in a `set`, they are also very useful for making comparisons between collections of data."
   ]
  },
  {
   "cell_type": "code",
   "execution_count": 1,
   "metadata": {},
   "outputs": [
    {
     "name": "stdout",
     "output_type": "stream",
     "text": [
      "{'biology', 'english'}\n",
      "{'biology', 'history', 'computer science', 'english', 'theatre', 'mathematics'}\n",
      "{'history', 'theatre'}\n",
      "{'mathematics', 'computer science'}\n",
      "{'history', 'computer science', 'theatre', 'mathematics'}\n"
     ]
    }
   ],
   "source": [
    "student_a_courses = {'history', 'english', 'biology', 'theatre'}\n",
    "student_b_courses = {'biology', 'english', 'mathematics', 'computer science'}\n",
    "\n",
    "print(student_a_courses.intersection(student_b_courses))\n",
    "print(student_a_courses.union(student_b_courses))\n",
    "print(student_a_courses.difference(student_b_courses))\n",
    "print(student_b_courses.difference(student_a_courses))\n",
    "print(student_a_courses.symmetric_difference(student_b_courses))"
   ]
  },
  {
   "cell_type": "code",
   "execution_count": 2,
   "metadata": {},
   "outputs": [
    {
     "data": {
      "text/plain": [
       "{'biology', 'english'}"
      ]
     },
     "execution_count": 2,
     "metadata": {},
     "output_type": "execute_result"
    }
   ],
   "source": [
    "student_a_courses & student_b_courses "
   ]
  },
  {
   "cell_type": "code",
   "execution_count": 3,
   "metadata": {},
   "outputs": [
    {
     "data": {
      "text/plain": [
       "{'computer science', 'history', 'mathematics', 'theatre'}"
      ]
     },
     "execution_count": 3,
     "metadata": {},
     "output_type": "execute_result"
    }
   ],
   "source": [
    "student_a_courses ^ student_b_courses "
   ]
  },
  {
   "cell_type": "code",
   "execution_count": 4,
   "metadata": {},
   "outputs": [
    {
     "data": {
      "text/plain": [
       "{'history', 'theatre'}"
      ]
     },
     "execution_count": 4,
     "metadata": {},
     "output_type": "execute_result"
    }
   ],
   "source": [
    "student_a_courses - student_b_courses"
   ]
  },
  {
   "cell_type": "code",
   "execution_count": 5,
   "metadata": {},
   "outputs": [
    {
     "data": {
      "text/plain": [
       "{'biology', 'computer science', 'english', 'history', 'mathematics', 'theatre'}"
      ]
     },
     "execution_count": 5,
     "metadata": {},
     "output_type": "execute_result"
    }
   ],
   "source": [
    "student_a_courses | student_b_courses"
   ]
  },
  {
   "cell_type": "markdown",
   "metadata": {},
   "source": [
    "## Search a `dict`"
   ]
  },
  {
   "cell_type": "markdown",
   "metadata": {},
   "source": [
    "Another useful data type built into Python is the dictionary or `dict` for short. Dictionaries are sometimes found in other languages as ***“associative memories” or “associative arrays”***. \n",
    "\n",
    "Unlike sequences, which are indexed by a range of numbers, dictionaries are indexed by keys, which can be any ***immutable type***.\n",
    "\n",
    "1. Strings and numbers can always be keys. \n",
    "2. Tuples can be used as keys if they contain only strings, numbers, or tuples; if a tuple contains any mutable object either directly or indirectly, it cannot be used as a key.\n",
    "3. Lists can’t be used as keys, since lists can be modified in place using index assignments, slice assignments, or methods like append() and extend()."
   ]
  },
  {
   "cell_type": "code",
   "execution_count": 7,
   "metadata": {},
   "outputs": [
    {
     "data": {
      "text/plain": [
       "{'dogo': 'H16-S32',\n",
       " 'ebuka': 'H16-S31',\n",
       " 'olamide': 'H16-S30',\n",
       " 'nnaemeka': 'H6-S12'}"
      ]
     },
     "execution_count": 7,
     "metadata": {},
     "output_type": "execute_result"
    }
   ],
   "source": [
    "# common way to define dicts\n",
    "staff_rank = {'dogo': 'H16-S32', 'ebuka': 'H16-S31', 'olamide': 'H16-S30', 'nnaemeka': 'H6-S12'} \n",
    "staff_rank"
   ]
  },
  {
   "cell_type": "code",
   "execution_count": 1,
   "metadata": {},
   "outputs": [
    {
     "data": {
      "text/plain": [
       "{'dogo': True, 'ebuka': False, 'olamide': True, 'nnaemeka': None}"
      ]
     },
     "execution_count": 1,
     "metadata": {},
     "output_type": "execute_result"
    }
   ],
   "source": [
    "# another way to init dicts if you have SIMPLE strings i.e. strings with no whitespaces\n",
    "staff_married = dict(dogo=True, ebuka=False, olamide=True, nnaemeka=None)   \n",
    "staff_married"
   ]
  },
  {
   "cell_type": "code",
   "execution_count": 2,
   "metadata": {},
   "outputs": [
    {
     "name": "stdout",
     "output_type": "stream",
     "text": [
      "dict_values([True, False, True, None])\n",
      "dict_keys(['dogo', 'ebuka', 'olamide', 'nnaemeka'])\n"
     ]
    }
   ],
   "source": [
    "print(staff_married.values())\n",
    "print(staff_married.keys())\n",
    "# find out other methods of the dict class"
   ]
  },
  {
   "cell_type": "markdown",
   "metadata": {},
   "source": [
    "It is best to think of a dictionary as a `set` of `key: value` pairs, with the requirement that the keys are unique (within one dictionary). \n",
    "\n",
    "A pair of braces creates an empty dictionary: {}."
   ]
  },
  {
   "cell_type": "code",
   "execution_count": 3,
   "metadata": {},
   "outputs": [
    {
     "name": "stdout",
     "output_type": "stream",
     "text": [
      "<class 'dict'>\n"
     ]
    }
   ],
   "source": [
    "dt = {}\n",
    "print(type(dt))"
   ]
  },
  {
   "cell_type": "markdown",
   "metadata": {},
   "source": [
    "The main operations on a `dict` are storing a value with some key and extracting the value given the key."
   ]
  },
  {
   "cell_type": "code",
   "execution_count": 8,
   "metadata": {},
   "outputs": [
    {
     "data": {
      "text/plain": [
       "'H16-S32'"
      ]
     },
     "execution_count": 8,
     "metadata": {},
     "output_type": "execute_result"
    }
   ],
   "source": [
    "staff_rank['dogo']    # view a value given the key"
   ]
  },
  {
   "cell_type": "code",
   "execution_count": 11,
   "metadata": {},
   "outputs": [
    {
     "name": "stdout",
     "output_type": "stream",
     "text": [
      "{'dogo': 'H16-S32', 'ebuka': 'H16-S31', 'olamide': 'H16-S30', 'nnaemeka': 'H6-S12'}\n",
      "{'dogo': 'H16-S32', 'ebuka': 'H16-S31', 'olamide': 'H16-S30', 'nnaemeka': 'H6-S12', 'tochukwu': 'H16-S22'}\n"
     ]
    }
   ],
   "source": [
    "print(staff_rank)\n",
    "staff_rank['tochukwu'] = 'H16-S22'    # add a key:value pair\n",
    "print(staff_rank)"
   ]
  },
  {
   "cell_type": "code",
   "execution_count": 12,
   "metadata": {},
   "outputs": [
    {
     "data": {
      "text/plain": [
       "{'dogo': 'H16-S32',\n",
       " 'ebuka': 'H16-S31',\n",
       " 'olamide': 'H16-S30',\n",
       " 'nnaemeka': 'H6-S12',\n",
       " 'tochukwu': 'H16-S22',\n",
       " ('emeka', 'arinze'): ('H16-S24', 'H16-S25')}"
      ]
     },
     "execution_count": 12,
     "metadata": {},
     "output_type": "execute_result"
    }
   ],
   "source": [
    "staff_rank['emeka', 'arinze'] = 'H16-S24', 'H16-S25'    # add a key:value pair, note that the key is a tuple\n",
    "staff_rank"
   ]
  },
  {
   "cell_type": "code",
   "execution_count": 17,
   "metadata": {},
   "outputs": [
    {
     "data": {
      "text/plain": [
       "{'dogo': 'H16-S32',\n",
       " 'ebuka': 'H16-S31',\n",
       " 'olamide': 'H16-S30',\n",
       " 'nnaemeka': 'H6-S12',\n",
       " 'tochukwu': 'H16-S22',\n",
       " ('emeka', 'arinze'): ('H16-S24', 'H16-S25'),\n",
       " ('emeka_2', 'arinze_2'): ('H16-S24', 'H16-S25')}"
      ]
     },
     "execution_count": 17,
     "metadata": {},
     "output_type": "execute_result"
    }
   ],
   "source": [
    "staff_rank[['emeka_2', 'arinze_2']] = 'H16-S24', 'H16-S25'    # add a key:value pair, error on list"
   ]
  },
  {
   "cell_type": "markdown",
   "metadata": {},
   "source": [
    "It is also possible to delete a ***key:value*** pair with `del`.\n",
    "\n",
    "If you store a value using a key that is already in use, the old value associated with that key is forgotten. \n",
    "\n",
    "> It is an error to extract a value using a non-existent key."
   ]
  },
  {
   "cell_type": "code",
   "execution_count": 18,
   "metadata": {},
   "outputs": [
    {
     "name": "stdout",
     "output_type": "stream",
     "text": [
      "{'dogo': 'H16-S32', 'ebuka': 'H16-S31', 'olamide': 'H16-S30', 'nnaemeka': 'H6-S12', 'tochukwu': 'H16-S22', ('emeka', 'arinze'): ('H16-S24', 'H16-S25'), ('emeka_2', 'arinze_2'): ('H16-S24', 'H16-S25')}\n",
      "{'dogo': 'H16-S32', 'ebuka': 'H16-S31', 'olamide': 'H16-S30', 'nnaemeka': 'H6-S12', 'tochukwu': 'H16-S22', ('emeka_2', 'arinze_2'): ('H16-S24', 'H16-S25')}\n"
     ]
    }
   ],
   "source": [
    "print(staff_rank)\n",
    "del staff_rank['emeka', 'arinze']        # note that 'emeka', 'arinze' is actually a tuple \n",
    "                                         # we could make it clearer by doing ('emeka', 'arinze')\n",
    "print(staff_rank)    "
   ]
  },
  {
   "cell_type": "code",
   "execution_count": 2,
   "metadata": {},
   "outputs": [
    {
     "name": "stdout",
     "output_type": "stream",
     "text": [
      "{'dogo': True, 'ebuka': False, 'olamide': True, 'nnaemeka': None}\n",
      "{'dogo': True, 'ebuka': False, 'olamide': False, 'nnaemeka': None}\n"
     ]
    }
   ],
   "source": [
    "print(staff_married)\n",
    "staff_married['olamide'] = False\n",
    "print(staff_married)"
   ]
  },
  {
   "cell_type": "code",
   "execution_count": 20,
   "metadata": {},
   "outputs": [
    {
     "name": "stdout",
     "output_type": "stream",
     "text": [
      "{'dogo': True, 'ebuka': False, 'olamide': False, 'nnaemeka': None}\n"
     ]
    },
    {
     "ename": "KeyError",
     "evalue": "'olumide'",
     "output_type": "error",
     "traceback": [
      "\u001b[0;31m---------------------------------------------------------------------------\u001b[0m",
      "\u001b[0;31mKeyError\u001b[0m                                  Traceback (most recent call last)",
      "\u001b[0;32m<ipython-input-20-927312705d61>\u001b[0m in \u001b[0;36m<module>\u001b[0;34m\u001b[0m\n\u001b[1;32m      1\u001b[0m \u001b[0mprint\u001b[0m\u001b[0;34m(\u001b[0m\u001b[0mstaff_married\u001b[0m\u001b[0;34m)\u001b[0m\u001b[0;34m\u001b[0m\u001b[0;34m\u001b[0m\u001b[0m\n\u001b[0;32m----> 2\u001b[0;31m \u001b[0mstaff_married\u001b[0m\u001b[0;34m[\u001b[0m\u001b[0;34m'olumide'\u001b[0m\u001b[0;34m]\u001b[0m\u001b[0;34m\u001b[0m\u001b[0;34m\u001b[0m\u001b[0m\n\u001b[0m",
      "\u001b[0;31mKeyError\u001b[0m: 'olumide'"
     ]
    }
   ],
   "source": [
    "print(staff_married)\n",
    "staff_married['olumide']"
   ]
  },
  {
   "cell_type": "markdown",
   "metadata": {},
   "source": [
    "To check whether a single key is in the `dict`, use the `in` keyword"
   ]
  },
  {
   "cell_type": "code",
   "execution_count": 14,
   "metadata": {},
   "outputs": [
    {
     "data": {
      "text/plain": [
       "False"
      ]
     },
     "execution_count": 14,
     "metadata": {},
     "output_type": "execute_result"
    }
   ],
   "source": [
    "'olumide' in staff_married"
   ]
  },
  {
   "cell_type": "markdown",
   "metadata": {},
   "source": [
    "## More on `dict`s\n",
    "\n",
    "### `zip`\n",
    "\n",
    "The `zip` function can be very handy for creating a `dict`. Say we have 2 `list`s containing logically related data, we could `zip` then into a `tuple` then into a `dict`."
   ]
  },
  {
   "cell_type": "code",
   "execution_count": 3,
   "metadata": {},
   "outputs": [
    {
     "name": "stdout",
     "output_type": "stream",
     "text": [
      "['Arthur', 32, 177.5, 68.5, 'black', 'brown', False, True, 'H16-S35']\n",
      "['name', 'age', 'height', 'weight', 'hair', 'eyes', 'has dog', 'married', 'level']\n"
     ]
    }
   ],
   "source": [
    "value_list = ['Arthur', 32, 177.5, 68.5, 'black', 'brown', False, True, 'H16-S35']\n",
    "key_list = ['name', 'age', 'height', 'weight', 'hair', 'eyes', 'has dog', 'married', 'level']    # problem with has dog?\n",
    "\n",
    "print(value_list)\n",
    "print(key_list)"
   ]
  },
  {
   "cell_type": "code",
   "execution_count": 24,
   "metadata": {},
   "outputs": [
    {
     "name": "stdout",
     "output_type": "stream",
     "text": [
      "{'name': 'Arthur', 'age': 32, 'height': 177.5, 'weight': 68.5, 'hair': 'black', 'eyes': 'brown', 'has dog': False, 'married': True, 'level': 'H16-S35'}\n",
      "<class 'dict'>\n"
     ]
    }
   ],
   "source": [
    "key_value_pairs = dict(zip(key_list, value_list))\n",
    "\n",
    "print(key_value_pairs)\n",
    "print(type(key_value_pairs))"
   ]
  },
  {
   "cell_type": "markdown",
   "metadata": {},
   "source": [
    "### Basic Data Structures Summary\n",
    "\n",
    "|Data Structure | Ordered | Mutable | Indexable | Slicable|\n",
    "|---|---|---|---|---|\n",
    "|__list__ | True | True | True | True|\n",
    "|__tuple__ | True | False | True | True|\n",
    "|__set__ | False | False | False | False|\n",
    "|__dict__ | _ | False | False | False|\n"
   ]
  },
  {
   "cell_type": "markdown",
   "metadata": {},
   "source": [
    "*Copyright &copy; 2019 MICTU, UNIZIK.*\n",
    "*Adapted for use in MICTU, UNIZIK Python Classes by [Arthur Ezenwanne](https://github.com/ArthurEzenwanne). All rights freely un-reserved.*"
   ]
  }
 ],
 "metadata": {
  "kernelspec": {
   "display_name": "Python 3",
   "language": "python",
   "name": "python3"
  },
  "language_info": {
   "codemirror_mode": {
    "name": "ipython",
    "version": 3
   },
   "file_extension": ".py",
   "mimetype": "text/x-python",
   "name": "python",
   "nbconvert_exporter": "python",
   "pygments_lexer": "ipython3",
   "version": "3.7.4"
  },
  "nbclean": true
 },
 "nbformat": 4,
 "nbformat_minor": 1
}
