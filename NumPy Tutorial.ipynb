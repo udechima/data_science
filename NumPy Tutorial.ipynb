{
 "cells": [
  {
   "cell_type": "markdown",
   "id": "c9ba5714",
   "metadata": {},
   "source": [
    "# NumPy"
   ]
  },
  {
   "cell_type": "markdown",
   "id": "82f4efb5",
   "metadata": {},
   "source": [
    "* NumPy is a Python library.\n",
    "\n",
    "* NumPy is used for working with arrays.\n",
    "\n",
    "* NumPy is short for \"Numerical Python\"."
   ]
  },
  {
   "cell_type": "markdown",
   "id": "39c32441",
   "metadata": {},
   "source": [
    "## NumPy Introduction"
   ]
  },
  {
   "cell_type": "markdown",
   "id": "488e3f0e",
   "metadata": {},
   "source": [
    "### What is NumPy?\n",
    "\n",
    "1. **NumPy is a Python library used for working with arrays:**  \n",
    "* NumPy indeed is a powerful Python library primarily designed for working with arrays. The core component of NumPy is the **ndarray**, which is a flexible and efficient multi-dimensional array object. This array allows you to perform various mathematical operations on entire blocks of data efficiently and with ease. NumPy's arrays are more efficient than Python lists for numerical operations, making it a fundamental tool for numerical computing in Python."
   ]
  },
  {
   "cell_type": "markdown",
   "id": "26f56f60",
   "metadata": {},
   "source": [
    "2. **It also has functions for working in domain of linear algebra, fourier transform, and matrices.**\n",
    "\n",
    "    * <u>Linear Algebra:</u> NumPy offers an extensive set of functions for linear algebra operations. These include matrix multiplication **(np.dot)**, finding determinants **(np.linalg.det)**, computing inverses **(np.linalg.inv)**, solving linear equations **(np.linalg.solve)**, eigenvalue and eigenvector computations **(np.linalg.eig)**, and various matrix decompositions (such as Singular Value Decomposition - SVD or QR decomposition). These tools make NumPy a valuable resource for linear algebra computations.\n",
    "    \n",
    "    * <u>Fourier Transform:</u> NumPy's **numpy.fft** module enables users to perform Fourier transforms and related operations. This functionality is crucial in various scientific fields, especially signal processing, image analysis, and understanding the frequency components of data. The module provides functions for computing discrete Fourier transforms **(np.fft.fft)**, inverse discrete Fourier transforms **(np.fft.ifft)**, and other spectral transformations.\n",
    "    \n",
    "    * <u>Matrices:</u> NumPy supports matrix operations, treating arrays as matrices for linear algebra computations. It includes specialized functions for matrix manipulation, such as matrix multiplication **(@ operator or np.matmul)**, transpose **(np.transpose)**, and reshaping **(np.reshape)**. This makes NumPy well-suited for handling matrix-based calculations efficiently."
   ]
  },
  {
   "cell_type": "markdown",
   "id": "7f5d6034",
   "metadata": {},
   "source": [
    "**Note:** <code>The basic idea behind the <u>Fourier transform</u> is to represent a function or a signal as a combination of sinusoids (sine and cosine waves) of different frequencies. This transformation helps in understanding the underlying frequency components that compose the original signal, which is immensely valuable in many scientific and engineering disciplines.</code>"
   ]
  },
  {
   "cell_type": "markdown",
   "id": "48bb2d98",
   "metadata": {},
   "source": [
    "3. **NumPy was created in 2005 by Travis Oliphant. It is an open source project and you can use it freely.** \n",
    "\n",
    "    - Travis Oliphant indeed initiated the creation of NumPy in 2005. He was a key figure in its development, fostering the creation of a fundamental library for numerical computing in Python.\n",
    "\n",
    "    - NumPy is an open-source project, which means its source code is available for anyone to view, modify, and distribute under the terms of its license. Its open nature encourages collaboration and contributions from a global community of developers and users, leading to its continual improvement, bug fixes, and the addition of new features over time.\n",
    "\n",
    "    - Importantly, NumPy is released under a permissive license, typically the BSD (Berkeley Software Distribution) license. This license allows users to use NumPy freely, including for commercial purposes, without restrictions on usage, modification, or distribution. This openness and freedom have significantly contributed to NumPy's widespread adoption in various fields, from scientific research to commercial applications."
   ]
  },
  {
   "cell_type": "markdown",
   "id": "be8a8f7b",
   "metadata": {},
   "source": [
    "4. **NumPy stands for Numerical Python.**"
   ]
  },
  {
   "cell_type": "markdown",
   "id": "b1206a29",
   "metadata": {},
   "source": [
    "## Why Use NumPy?"
   ]
  },
  {
   "cell_type": "markdown",
   "id": "f647943d",
   "metadata": {},
   "source": [
    "1. **In Python we have lists that serve the purpose of arrays, but they are slow to process.**\n",
    "\n",
    "    - That's right! In Python, lists are a versatile data structure that can contain elements of different types and can dynamically grow or shrink. While they are incredibly flexible, this versatility comes with a performance trade-off, especially when performing numerical computations or handling large datasets.\n",
    "\n",
    "    - Lists in Python are designed to be general-purpose containers, which means they sacrifice some performance for flexibility. When it comes to numerical computations involving large amounts of data, the overhead of dynamic typing and the way lists are implemented in Python can lead to slower execution compared to specialized array structures."
   ]
  },
  {
   "cell_type": "markdown",
   "id": "64a69d6b",
   "metadata": {},
   "source": [
    "2. **NumPy aims to provide an array object that is up to 50x faster than traditional Python lists.**\n",
    "    \n",
    "    * Indeed, that's an accurate estimation! NumPy aims to significantly enhance the performance of array-based operations compared to traditional Python lists. The speedup can vary based on the specific operation and the size of the data being processed, but in many cases, NumPy arrays can be orders of magnitude faster than using Python lists"
   ]
  },
  {
   "cell_type": "markdown",
   "id": "2fb07d5d",
   "metadata": {},
   "source": [
    "3. **The array object in NumPy is called ndarray, it provides a lot of supporting functions that make working with ndarray very easy.**"
   ]
  },
  {
   "cell_type": "markdown",
   "id": "4e096ba5",
   "metadata": {},
   "source": [
    "4. **Arrays are very frequently used in data science, where speed and resources are very important**"
   ]
  },
  {
   "cell_type": "markdown",
   "id": "aa3c9f90",
   "metadata": {},
   "source": [
    "## Why is NumPy Faster Than Lists?"
   ]
  },
  {
   "cell_type": "markdown",
   "id": "37d7b2bf",
   "metadata": {},
   "source": [
    "1. **NumPy arrays are stored at one continuous place in memory unlike lists, so processes can access and manipulate them very efficiently.**\n",
    "\n",
    "2. **This behavior is called locality of reference in computer science.**\n",
    "\n",
    "3. **This is the main reason why NumPy is faster than lists. Also it is optimized to work with latest CPU architectures.**"
   ]
  },
  {
   "cell_type": "markdown",
   "id": "123179fe",
   "metadata": {},
   "source": [
    "## Which Language is NumPy written in?"
   ]
  },
  {
   "cell_type": "markdown",
   "id": "1f70f999",
   "metadata": {},
   "source": [
    "NumPy is a Python library and is written partially in Python, but most of the parts that require fast computation are written in C or C++"
   ]
  },
  {
   "cell_type": "markdown",
   "id": "553c4e09",
   "metadata": {},
   "source": [
    "## Where is the NumPy Codebase?"
   ]
  },
  {
   "cell_type": "markdown",
   "id": "f905b5d1",
   "metadata": {},
   "source": [
    "The source code for NumPy is located at this github repository <a href=\"https://github.com/numpy/numpy\">https://github.com/numpy/numpy</a>"
   ]
  },
  {
   "cell_type": "code",
   "execution_count": null,
   "id": "cf604e3a",
   "metadata": {},
   "outputs": [],
   "source": []
  }
 ],
 "metadata": {
  "kernelspec": {
   "display_name": "Python 3 (ipykernel)",
   "language": "python",
   "name": "python3"
  },
  "language_info": {
   "codemirror_mode": {
    "name": "ipython",
    "version": 3
   },
   "file_extension": ".py",
   "mimetype": "text/x-python",
   "name": "python",
   "nbconvert_exporter": "python",
   "pygments_lexer": "ipython3",
   "version": "3.10.12"
  }
 },
 "nbformat": 4,
 "nbformat_minor": 5
}
